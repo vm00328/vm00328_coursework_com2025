{
  "nbformat": 4,
  "nbformat_minor": 0,
  "metadata": {
    "colab": {
      "name": "Copy of COM2028_CW_vm00328.ipynb",
      "provenance": [],
      "collapsed_sections": [],
      "include_colab_link": true
    },
    "kernelspec": {
      "name": "python3",
      "display_name": "Python 3"
    },
    "language_info": {
      "name": "python"
    },
    "accelerator": "GPU"
  },
  "cells": [
    {
      "cell_type": "markdown",
      "metadata": {
        "id": "view-in-github",
        "colab_type": "text"
      },
      "source": [
        "<a href=\"https://colab.research.google.com/github/vm00328/vm00328_coursework_com2025/blob/master/COM2028_CW_vm00328.ipynb\" target=\"_parent\"><img src=\"https://colab.research.google.com/assets/colab-badge.svg\" alt=\"Open In Colab\"/></a>"
      ]
    },
    {
      "cell_type": "code",
      "metadata": {
        "colab": {
          "base_uri": "https://localhost:8080/"
        },
        "id": "yNZLnVKjjl7c",
        "outputId": "6dd819d3-6447-40c4-c54a-08ae2bfb6da7"
      },
      "source": [
        "!apt install unzip"
      ],
      "execution_count": 1,
      "outputs": [
        {
          "output_type": "stream",
          "text": [
            "Reading package lists... Done\n",
            "Building dependency tree       \n",
            "Reading state information... Done\n",
            "unzip is already the newest version (6.0-21ubuntu1.1).\n",
            "The following package was automatically installed and is no longer required:\n",
            "  libnvidia-common-460\n",
            "Use 'apt autoremove' to remove it.\n",
            "0 upgraded, 0 newly installed, 0 to remove and 34 not upgraded.\n"
          ],
          "name": "stdout"
        }
      ]
    },
    {
      "cell_type": "code",
      "metadata": {
        "colab": {
          "base_uri": "https://localhost:8080/"
        },
        "id": "AWlM_cCXjwrh",
        "outputId": "642227a4-c9d3-406e-9d97-8797aabc97aa"
      },
      "source": [
        "!pip install --upgrade --force-reinstall --no-deps kaggle"
      ],
      "execution_count": 2,
      "outputs": [
        {
          "output_type": "stream",
          "text": [
            "Processing /root/.cache/pip/wheels/a1/6a/26/d30b7499ff85a4a4593377a87ecf55f7d08af42f0de9b60303/kaggle-1.5.12-cp37-none-any.whl\n",
            "Installing collected packages: kaggle\n",
            "  Found existing installation: kaggle 1.5.12\n",
            "    Uninstalling kaggle-1.5.12:\n",
            "      Successfully uninstalled kaggle-1.5.12\n",
            "Successfully installed kaggle-1.5.12\n"
          ],
          "name": "stdout"
        }
      ]
    },
    {
      "cell_type": "code",
      "metadata": {
        "colab": {
          "resources": {
            "http://localhost:8080/nbextensions/google.colab/files.js": {
              "data": "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",
              "ok": true,
              "headers": [
                [
                  "content-type",
                  "application/javascript"
                ]
              ],
              "status": 200,
              "status_text": "OK"
            }
          },
          "base_uri": "https://localhost:8080/",
          "height": 95
        },
        "id": "y1y6HtZQj3dQ",
        "outputId": "0333ac41-4ef1-49ea-a9bf-55e7cec193d7"
      },
      "source": [
        "from google.colab import files\n",
        "files.upload()"
      ],
      "execution_count": 3,
      "outputs": [
        {
          "output_type": "display_data",
          "data": {
            "text/html": [
              "\n",
              "     <input type=\"file\" id=\"files-1f0767da-bcbf-49fa-80aa-3e58f2d312b0\" name=\"files[]\" multiple disabled\n",
              "        style=\"border:none\" />\n",
              "     <output id=\"result-1f0767da-bcbf-49fa-80aa-3e58f2d312b0\">\n",
              "      Upload widget is only available when the cell has been executed in the\n",
              "      current browser session. Please rerun this cell to enable.\n",
              "      </output>\n",
              "      <script src=\"/nbextensions/google.colab/files.js\"></script> "
            ],
            "text/plain": [
              "<IPython.core.display.HTML object>"
            ]
          },
          "metadata": {
            "tags": []
          }
        },
        {
          "output_type": "stream",
          "text": [
            "Saving kaggle.json to kaggle (1).json\n"
          ],
          "name": "stdout"
        },
        {
          "output_type": "execute_result",
          "data": {
            "text/plain": [
              "{'kaggle.json': b'{\"username\":\"vladislavmanolov\",\"key\":\"5a9777f95a483af8cf3d3b1e156f046d\"}'}"
            ]
          },
          "metadata": {
            "tags": []
          },
          "execution_count": 3
        }
      ]
    },
    {
      "cell_type": "code",
      "metadata": {
        "colab": {
          "base_uri": "https://localhost:8080/"
        },
        "id": "fjXO5r4QkO_T",
        "outputId": "9fcc8de3-882f-414e-a99a-4581f41e41fe"
      },
      "source": [
        "! mkdir ~/.kaggle\n",
        "\n",
        "! cp kaggle.json ~/.kaggle/\n",
        "\n",
        "! chmod 600 ~/.kaggle/kaggle.json\n",
        "! kaggle competitions download -c 'uos-com2028'"
      ],
      "execution_count": 4,
      "outputs": [
        {
          "output_type": "stream",
          "text": [
            "mkdir: cannot create directory ‘/root/.kaggle’: File exists\n",
            "uos-com2028.zip: Skipping, found more recently modified local copy (use --force to force download)\n"
          ],
          "name": "stdout"
        }
      ]
    },
    {
      "cell_type": "code",
      "metadata": {
        "colab": {
          "base_uri": "https://localhost:8080/"
        },
        "id": "-7essurNkhYR",
        "outputId": "14d4c010-9174-4a32-e4c8-abfbcde2bb2e"
      },
      "source": [
        "! unzip uos-com2028.zip -d COM2028_Coursework"
      ],
      "execution_count": 5,
      "outputs": [
        {
          "output_type": "stream",
          "text": [
            "Archive:  uos-com2028.zip\n",
            "replace COM2028_Coursework/submission_sample.csv? [y]es, [n]o, [A]ll, [N]one, [r]ename: "
          ],
          "name": "stdout"
        }
      ]
    },
    {
      "cell_type": "code",
      "metadata": {
        "id": "A8AY_9OxkscO"
      },
      "source": [
        "#Some necessary imports that are used throughout development\n",
        "import keras\n",
        "import numpy as np\n",
        "from numpy.random import seed\n",
        "import tensorflow as tf\n",
        "import pandas as pd\n",
        "import matplotlib.pyplot as plt\n",
        "import os\n",
        "import cv2\n",
        "from sklearn.model_selection import train_test_split\n",
        "from keras.models import Sequential\n",
        "from keras.layers import Dense, Dropout, Activation, Flatten\n",
        "from keras.layers import Convolution2D, MaxPooling2D\n",
        "from keras.utils import np_utils\n",
        "from cv2 import cv2\n",
        "\n",
        "from keras.preprocessing.image import ImageDataGenerator\n",
        "%matplotlib inline"
      ],
      "execution_count": 6,
      "outputs": []
    },
    {
      "cell_type": "code",
      "metadata": {
        "colab": {
          "base_uri": "https://localhost:8080/"
        },
        "id": "7B_c0Q7GkxRV",
        "outputId": "6b76e806-e940-4ca2-c0e2-2fe0e338b4c5"
      },
      "source": [
        "#Upload the data and make an array for the training dataset\n",
        "from tqdm import tqdm\n",
        "trained_data = [None] * 10270\n",
        "savedIn = 'COM2028_Coursework/train/train'\n",
        "for i in tqdm(os.listdir(savedIn)):\n",
        "  path = os.path.join(savedIn,i)\n",
        "  img = cv2.imread(path,cv2.IMREAD_COLOR)\n",
        "  img = cv2.resize(img, (64,64))\n",
        "  img = img/255\n",
        "  i = i[:-4]\n",
        "  trained_data[int(i)] = np.array(img)\n",
        "x_train = np.array(trained_data)\n",
        "\n",
        "#Checking the shape of x_train to make sure everything is as expected\n",
        "x_train.shape"
      ],
      "execution_count": 7,
      "outputs": [
        {
          "output_type": "stream",
          "text": [
            "100%|██████████| 10270/10270 [00:38<00:00, 268.87it/s]\n"
          ],
          "name": "stderr"
        },
        {
          "output_type": "execute_result",
          "data": {
            "text/plain": [
              "(10270, 64, 64, 3)"
            ]
          },
          "metadata": {
            "tags": []
          },
          "execution_count": 7
        }
      ]
    },
    {
      "cell_type": "code",
      "metadata": {
        "colab": {
          "base_uri": "https://localhost:8080/"
        },
        "id": "cc3H8g6zmEqp",
        "outputId": "9088d78a-dfbb-4da6-ed1e-64574cb49de3"
      },
      "source": [
        "#Uploading the data annd making an array for the testing dataset\n",
        "tested_pics = [None] * 15009\n",
        "savedIn = 'COM2028_Coursework/test/test'\n",
        "for i in tqdm(os.listdir(savedIn)):\n",
        "  path = os.path.join(savedIn,i)\n",
        "  img = cv2.imread(path,cv2.IMREAD_COLOR)\n",
        "  img = cv2.resize(img, (64,64))\n",
        "  img = img/255\n",
        "  i = i[:-4]\n",
        "  tested_pics[int(i)] = np.array(img)\n",
        "x_test = np.array(tested_pics)\n",
        "\n",
        "#Checking the shape of x_test to make sure everything is as expected\n",
        "x_test.shape"
      ],
      "execution_count": 8,
      "outputs": [
        {
          "output_type": "stream",
          "text": [
            "100%|██████████| 15009/15009 [00:55<00:00, 270.50it/s]\n"
          ],
          "name": "stderr"
        },
        {
          "output_type": "execute_result",
          "data": {
            "text/plain": [
              "(15009, 64, 64, 3)"
            ]
          },
          "metadata": {
            "tags": []
          },
          "execution_count": 8
        }
      ]
    },
    {
      "cell_type": "code",
      "metadata": {
        "colab": {
          "base_uri": "https://localhost:8080/"
        },
        "id": "TG9XSk6dmw_q",
        "outputId": "7918ca2d-6514-4f44-b5ba-28fb3fb3c4bb"
      },
      "source": [
        "example = \"COM2028_Coursework/train.txt\"\n",
        "file = open(example, \"r\")\n",
        "lines = file.readlines()\n",
        "target = []\n",
        "for line in lines:\n",
        "  for n in line.split()[1:]:\n",
        "    target.append(int(n))\n",
        "y_train = np.array(target)\n",
        "print(y_train)"
      ],
      "execution_count": 9,
      "outputs": [
        {
          "output_type": "stream",
          "text": [
            "[ 5 21 18 ...  7  7  7]\n"
          ],
          "name": "stdout"
        }
      ]
    },
    {
      "cell_type": "code",
      "metadata": {
        "colab": {
          "base_uri": "https://localhost:8080/"
        },
        "id": "hpRTq8aQm8kc",
        "outputId": "d88a93bb-a454-4c36-d738-9af34de844ab"
      },
      "source": [
        "from keras. utils import to_categorical\n",
        "y_train = to_categorical(y_train)\n",
        "y_train.shape"
      ],
      "execution_count": 10,
      "outputs": [
        {
          "output_type": "execute_result",
          "data": {
            "text/plain": [
              "(10270, 23)"
            ]
          },
          "metadata": {
            "tags": []
          },
          "execution_count": 10
        }
      ]
    },
    {
      "cell_type": "code",
      "metadata": {
        "id": "6qcCu78Y3jGZ"
      },
      "source": [
        "imgGenerator = ImageDataGenerator(\n",
        "    shear_range = 0.25,\n",
        "    zoom_range = 0.25,\n",
        "    featurewise_center=False,  # set input mean to 0 over the dataset\n",
        "    samplewise_center=False,  # set each sample mean to 0\n",
        "    featurewise_std_normalization=False,  # divide inputs by std of the dataset\n",
        "    samplewise_std_normalization=False,  # divide each input by its std\n",
        "    zca_whitening=False,  # dimesion reduction\n",
        "    rotation_range=5,  # randomly rotate images in the range 5 degrees\n",
        "    width_shift_range=0.1,  # randomly shift images horizontally 10%\n",
        "    height_shift_range=0.1,  # randomly shift images vertically 10%\n",
        "    horizontal_flip=False,  # randomly flip images\n",
        "    vertical_flip=False)  # randomly flip images\n",
        "\n",
        "\n",
        "imgGenerator.fit(x_train)\n",
        "\n",
        "#Splitting the data into a training and testing set\n",
        "X_train, X_test, Y_train, Y_test = train_test_split(x_train, y_train, random_state=42, test_size=0.02)"
      ],
      "execution_count": 11,
      "outputs": []
    },
    {
      "cell_type": "code",
      "metadata": {
        "id": "hyUjwqeM0aKs"
      },
      "source": [
        "#Building the model\n",
        "model = Sequential()\n",
        "model.add(Convolution2D(64, kernel_size = 3, activation='relu', input_shape=(64,64,3)))\n",
        "model.add(Convolution2D(64, kernel_size = 3, activation='relu'))\n",
        "model.add(MaxPooling2D(pool_size=(3, 3)))\n",
        "model.add(Dropout(0.2))\n",
        "#model.add(Dense(64, activation='relu'))\n",
        "\n",
        "model.add(Convolution2D(64, kernel_size = 3, activation='relu'))\n",
        "model.add(Convolution2D(64, kernel_size = 3, activation='relu'))\n",
        "model.add(MaxPooling2D(pool_size=(3, 3)))\n",
        "model.add(Dropout(0.3))\n",
        "#model.add(Dense(64, activation='relu'))\n",
        "\n",
        "model.add(Convolution2D(128, kernel_size = 3, activation='relu'))\n",
        "model.add(Dropout(0.5))\n",
        "\n",
        "model.add(Flatten())\n",
        "\n",
        "model.add(Dense(23, activation='softmax'))"
      ],
      "execution_count": 12,
      "outputs": []
    },
    {
      "cell_type": "code",
      "metadata": {
        "colab": {
          "base_uri": "https://localhost:8080/"
        },
        "id": "nUNukWNO1hi5",
        "outputId": "117a9ace-835f-461b-cfb9-f58ac8bdd755"
      },
      "source": [
        "#Setting the learning rate to a small value\n",
        "learning_rate = 0.0001\n",
        "optimizer = keras.optimizers.Adam(learning_rate = learning_rate)\n",
        "accuracy = keras.metrics.CategoricalAccuracy()\n",
        "\n",
        "#Compiling the model\n",
        "model.compile(loss='categorical_crossentropy', optimizer='adam', metrics=['accuracy'])\n",
        "\n",
        "#Printing a summary of the model for vizualization purposes\n",
        "print(model.summary())"
      ],
      "execution_count": 13,
      "outputs": [
        {
          "output_type": "stream",
          "text": [
            "Model: \"sequential\"\n",
            "_________________________________________________________________\n",
            "Layer (type)                 Output Shape              Param #   \n",
            "=================================================================\n",
            "conv2d (Conv2D)              (None, 62, 62, 64)        1792      \n",
            "_________________________________________________________________\n",
            "conv2d_1 (Conv2D)            (None, 60, 60, 64)        36928     \n",
            "_________________________________________________________________\n",
            "max_pooling2d (MaxPooling2D) (None, 20, 20, 64)        0         \n",
            "_________________________________________________________________\n",
            "dropout (Dropout)            (None, 20, 20, 64)        0         \n",
            "_________________________________________________________________\n",
            "conv2d_2 (Conv2D)            (None, 18, 18, 64)        36928     \n",
            "_________________________________________________________________\n",
            "conv2d_3 (Conv2D)            (None, 16, 16, 64)        36928     \n",
            "_________________________________________________________________\n",
            "max_pooling2d_1 (MaxPooling2 (None, 5, 5, 64)          0         \n",
            "_________________________________________________________________\n",
            "dropout_1 (Dropout)          (None, 5, 5, 64)          0         \n",
            "_________________________________________________________________\n",
            "conv2d_4 (Conv2D)            (None, 3, 3, 128)         73856     \n",
            "_________________________________________________________________\n",
            "dropout_2 (Dropout)          (None, 3, 3, 128)         0         \n",
            "_________________________________________________________________\n",
            "flatten (Flatten)            (None, 1152)              0         \n",
            "_________________________________________________________________\n",
            "dense (Dense)                (None, 23)                26519     \n",
            "=================================================================\n",
            "Total params: 212,951\n",
            "Trainable params: 212,951\n",
            "Non-trainable params: 0\n",
            "_________________________________________________________________\n",
            "None\n"
          ],
          "name": "stdout"
        }
      ]
    },
    {
      "cell_type": "code",
      "metadata": {
        "colab": {
          "base_uri": "https://localhost:8080/"
        },
        "id": "kz5e9xMY4R30",
        "outputId": "089bd887-a012-4300-ad0b-0d0e1c05789f"
      },
      "source": [
        "#Fitting the model\n",
        "history = model.fit(X_train, Y_train, validation_data=(X_test, Y_test), epochs=140, batch_size=64)"
      ],
      "execution_count": 14,
      "outputs": [
        {
          "output_type": "stream",
          "text": [
            "Epoch 1/140\n",
            "158/158 [==============================] - 38s 30ms/step - loss: 2.7520 - accuracy: 0.1785 - val_loss: 2.5176 - val_accuracy: 0.2087\n",
            "Epoch 2/140\n",
            "158/158 [==============================] - 4s 24ms/step - loss: 2.3436 - accuracy: 0.3135 - val_loss: 2.1324 - val_accuracy: 0.3204\n",
            "Epoch 3/140\n",
            "158/158 [==============================] - 4s 24ms/step - loss: 2.1135 - accuracy: 0.3792 - val_loss: 2.0271 - val_accuracy: 0.3786\n",
            "Epoch 4/140\n",
            "158/158 [==============================] - 4s 24ms/step - loss: 1.9531 - accuracy: 0.4126 - val_loss: 2.0018 - val_accuracy: 0.4126\n",
            "Epoch 5/140\n",
            "158/158 [==============================] - 4s 24ms/step - loss: 1.8217 - accuracy: 0.4461 - val_loss: 1.7356 - val_accuracy: 0.4660\n",
            "Epoch 6/140\n",
            "158/158 [==============================] - 4s 24ms/step - loss: 1.7215 - accuracy: 0.4727 - val_loss: 1.6931 - val_accuracy: 0.5000\n",
            "Epoch 7/140\n",
            "158/158 [==============================] - 4s 24ms/step - loss: 1.6063 - accuracy: 0.5037 - val_loss: 1.6628 - val_accuracy: 0.4854\n",
            "Epoch 8/140\n",
            "158/158 [==============================] - 4s 24ms/step - loss: 1.5545 - accuracy: 0.5188 - val_loss: 1.5971 - val_accuracy: 0.5291\n",
            "Epoch 9/140\n",
            "158/158 [==============================] - 4s 24ms/step - loss: 1.4777 - accuracy: 0.5488 - val_loss: 1.4950 - val_accuracy: 0.5388\n",
            "Epoch 10/140\n",
            "158/158 [==============================] - 4s 24ms/step - loss: 1.3794 - accuracy: 0.5735 - val_loss: 1.5437 - val_accuracy: 0.5388\n",
            "Epoch 11/140\n",
            "158/158 [==============================] - 4s 25ms/step - loss: 1.3116 - accuracy: 0.5948 - val_loss: 1.3683 - val_accuracy: 0.6068\n",
            "Epoch 12/140\n",
            "158/158 [==============================] - 4s 25ms/step - loss: 1.2419 - accuracy: 0.6096 - val_loss: 1.3330 - val_accuracy: 0.6262\n",
            "Epoch 13/140\n",
            "158/158 [==============================] - 4s 25ms/step - loss: 1.1773 - accuracy: 0.6327 - val_loss: 1.3616 - val_accuracy: 0.5922\n",
            "Epoch 14/140\n",
            "158/158 [==============================] - 4s 24ms/step - loss: 1.1713 - accuracy: 0.6253 - val_loss: 1.2790 - val_accuracy: 0.6068\n",
            "Epoch 15/140\n",
            "158/158 [==============================] - 4s 24ms/step - loss: 1.0829 - accuracy: 0.6608 - val_loss: 1.2987 - val_accuracy: 0.6359\n",
            "Epoch 16/140\n",
            "158/158 [==============================] - 4s 24ms/step - loss: 1.0721 - accuracy: 0.6614 - val_loss: 1.2477 - val_accuracy: 0.6553\n",
            "Epoch 17/140\n",
            "158/158 [==============================] - 4s 25ms/step - loss: 1.0139 - accuracy: 0.6807 - val_loss: 1.2446 - val_accuracy: 0.6408\n",
            "Epoch 18/140\n",
            "158/158 [==============================] - 4s 25ms/step - loss: 0.9895 - accuracy: 0.6807 - val_loss: 1.2141 - val_accuracy: 0.6650\n",
            "Epoch 19/140\n",
            "158/158 [==============================] - 4s 25ms/step - loss: 0.9376 - accuracy: 0.6941 - val_loss: 1.3987 - val_accuracy: 0.5777\n",
            "Epoch 20/140\n",
            "158/158 [==============================] - 4s 25ms/step - loss: 0.9379 - accuracy: 0.7035 - val_loss: 1.2348 - val_accuracy: 0.6359\n",
            "Epoch 21/140\n",
            "158/158 [==============================] - 4s 25ms/step - loss: 0.8890 - accuracy: 0.7185 - val_loss: 1.2219 - val_accuracy: 0.6359\n",
            "Epoch 22/140\n",
            "158/158 [==============================] - 4s 25ms/step - loss: 0.8329 - accuracy: 0.7281 - val_loss: 1.1774 - val_accuracy: 0.6602\n",
            "Epoch 23/140\n",
            "158/158 [==============================] - 4s 25ms/step - loss: 0.8244 - accuracy: 0.7339 - val_loss: 1.1217 - val_accuracy: 0.6505\n",
            "Epoch 24/140\n",
            "158/158 [==============================] - 4s 25ms/step - loss: 0.7728 - accuracy: 0.7501 - val_loss: 1.1792 - val_accuracy: 0.6456\n",
            "Epoch 25/140\n",
            "158/158 [==============================] - 4s 25ms/step - loss: 0.7753 - accuracy: 0.7465 - val_loss: 1.1927 - val_accuracy: 0.6553\n",
            "Epoch 26/140\n",
            "158/158 [==============================] - 4s 25ms/step - loss: 0.7807 - accuracy: 0.7402 - val_loss: 1.2075 - val_accuracy: 0.6650\n",
            "Epoch 27/140\n",
            "158/158 [==============================] - 4s 25ms/step - loss: 0.7386 - accuracy: 0.7568 - val_loss: 1.1864 - val_accuracy: 0.6505\n",
            "Epoch 28/140\n",
            "158/158 [==============================] - 4s 25ms/step - loss: 0.7036 - accuracy: 0.7701 - val_loss: 1.0663 - val_accuracy: 0.6748\n",
            "Epoch 29/140\n",
            "158/158 [==============================] - 4s 25ms/step - loss: 0.6854 - accuracy: 0.7707 - val_loss: 1.0836 - val_accuracy: 0.6748\n",
            "Epoch 30/140\n",
            "158/158 [==============================] - 4s 25ms/step - loss: 0.6739 - accuracy: 0.7839 - val_loss: 1.1819 - val_accuracy: 0.6408\n",
            "Epoch 31/140\n",
            "158/158 [==============================] - 4s 25ms/step - loss: 0.6507 - accuracy: 0.7822 - val_loss: 1.0787 - val_accuracy: 0.6893\n",
            "Epoch 32/140\n",
            "158/158 [==============================] - 4s 25ms/step - loss: 0.6587 - accuracy: 0.7828 - val_loss: 1.0937 - val_accuracy: 0.6942\n",
            "Epoch 33/140\n",
            "158/158 [==============================] - 4s 25ms/step - loss: 0.6461 - accuracy: 0.7897 - val_loss: 1.1469 - val_accuracy: 0.6650\n",
            "Epoch 34/140\n",
            "158/158 [==============================] - 4s 25ms/step - loss: 0.6221 - accuracy: 0.7908 - val_loss: 1.1380 - val_accuracy: 0.6602\n",
            "Epoch 35/140\n",
            "158/158 [==============================] - 4s 25ms/step - loss: 0.5947 - accuracy: 0.7975 - val_loss: 1.0998 - val_accuracy: 0.6845\n",
            "Epoch 36/140\n",
            "158/158 [==============================] - 4s 24ms/step - loss: 0.5738 - accuracy: 0.8069 - val_loss: 1.0547 - val_accuracy: 0.7039\n",
            "Epoch 37/140\n",
            "158/158 [==============================] - 4s 25ms/step - loss: 0.5742 - accuracy: 0.8023 - val_loss: 1.1292 - val_accuracy: 0.6505\n",
            "Epoch 38/140\n",
            "158/158 [==============================] - 4s 25ms/step - loss: 0.5667 - accuracy: 0.8112 - val_loss: 1.1657 - val_accuracy: 0.6553\n",
            "Epoch 39/140\n",
            "158/158 [==============================] - 4s 25ms/step - loss: 0.5513 - accuracy: 0.8150 - val_loss: 1.1220 - val_accuracy: 0.6262\n",
            "Epoch 40/140\n",
            "158/158 [==============================] - 4s 25ms/step - loss: 0.5328 - accuracy: 0.8190 - val_loss: 1.2036 - val_accuracy: 0.6505\n",
            "Epoch 41/140\n",
            "158/158 [==============================] - 4s 25ms/step - loss: 0.4994 - accuracy: 0.8371 - val_loss: 1.1326 - val_accuracy: 0.7184\n",
            "Epoch 42/140\n",
            "158/158 [==============================] - 4s 25ms/step - loss: 0.5047 - accuracy: 0.8326 - val_loss: 1.3272 - val_accuracy: 0.6262\n",
            "Epoch 43/140\n",
            "158/158 [==============================] - 4s 25ms/step - loss: 0.5135 - accuracy: 0.8288 - val_loss: 1.1347 - val_accuracy: 0.6893\n",
            "Epoch 44/140\n",
            "158/158 [==============================] - 4s 25ms/step - loss: 0.5089 - accuracy: 0.8274 - val_loss: 1.0977 - val_accuracy: 0.6845\n",
            "Epoch 45/140\n",
            "158/158 [==============================] - 4s 25ms/step - loss: 0.4777 - accuracy: 0.8435 - val_loss: 1.1629 - val_accuracy: 0.6942\n",
            "Epoch 46/140\n",
            "158/158 [==============================] - 4s 25ms/step - loss: 0.5082 - accuracy: 0.8293 - val_loss: 1.1161 - val_accuracy: 0.6553\n",
            "Epoch 47/140\n",
            "158/158 [==============================] - 4s 25ms/step - loss: 0.4707 - accuracy: 0.8453 - val_loss: 1.1666 - val_accuracy: 0.6942\n",
            "Epoch 48/140\n",
            "158/158 [==============================] - 4s 25ms/step - loss: 0.4681 - accuracy: 0.8445 - val_loss: 1.1605 - val_accuracy: 0.6699\n",
            "Epoch 49/140\n",
            "158/158 [==============================] - 4s 25ms/step - loss: 0.4804 - accuracy: 0.8388 - val_loss: 1.0245 - val_accuracy: 0.7087\n",
            "Epoch 50/140\n",
            "158/158 [==============================] - 4s 25ms/step - loss: 0.4688 - accuracy: 0.8428 - val_loss: 1.0750 - val_accuracy: 0.6942\n",
            "Epoch 51/140\n",
            "158/158 [==============================] - 4s 25ms/step - loss: 0.4495 - accuracy: 0.8446 - val_loss: 1.2104 - val_accuracy: 0.6650\n",
            "Epoch 52/140\n",
            "158/158 [==============================] - 4s 25ms/step - loss: 0.4442 - accuracy: 0.8497 - val_loss: 1.2211 - val_accuracy: 0.6553\n",
            "Epoch 53/140\n",
            "158/158 [==============================] - 4s 24ms/step - loss: 0.4365 - accuracy: 0.8568 - val_loss: 1.0426 - val_accuracy: 0.6699\n",
            "Epoch 54/140\n",
            "158/158 [==============================] - 4s 24ms/step - loss: 0.4469 - accuracy: 0.8527 - val_loss: 1.1525 - val_accuracy: 0.6893\n",
            "Epoch 55/140\n",
            "158/158 [==============================] - 4s 25ms/step - loss: 0.4410 - accuracy: 0.8497 - val_loss: 1.0806 - val_accuracy: 0.6650\n",
            "Epoch 56/140\n",
            "158/158 [==============================] - 4s 25ms/step - loss: 0.4269 - accuracy: 0.8512 - val_loss: 1.1014 - val_accuracy: 0.6893\n",
            "Epoch 57/140\n",
            "158/158 [==============================] - 4s 25ms/step - loss: 0.4109 - accuracy: 0.8626 - val_loss: 1.1352 - val_accuracy: 0.6748\n",
            "Epoch 58/140\n",
            "158/158 [==============================] - 4s 24ms/step - loss: 0.4075 - accuracy: 0.8613 - val_loss: 1.1815 - val_accuracy: 0.6796\n",
            "Epoch 59/140\n",
            "158/158 [==============================] - 4s 25ms/step - loss: 0.4088 - accuracy: 0.8640 - val_loss: 1.1286 - val_accuracy: 0.6990\n",
            "Epoch 60/140\n",
            "158/158 [==============================] - 4s 25ms/step - loss: 0.4302 - accuracy: 0.8578 - val_loss: 1.1983 - val_accuracy: 0.6748\n",
            "Epoch 61/140\n",
            "158/158 [==============================] - 4s 24ms/step - loss: 0.3976 - accuracy: 0.8680 - val_loss: 1.1631 - val_accuracy: 0.6990\n",
            "Epoch 62/140\n",
            "158/158 [==============================] - 4s 25ms/step - loss: 0.4128 - accuracy: 0.8665 - val_loss: 1.2082 - val_accuracy: 0.6359\n",
            "Epoch 63/140\n",
            "158/158 [==============================] - 4s 24ms/step - loss: 0.3885 - accuracy: 0.8660 - val_loss: 1.1760 - val_accuracy: 0.6602\n",
            "Epoch 64/140\n",
            "158/158 [==============================] - 4s 24ms/step - loss: 0.3822 - accuracy: 0.8753 - val_loss: 1.1135 - val_accuracy: 0.6942\n",
            "Epoch 65/140\n",
            "158/158 [==============================] - 4s 24ms/step - loss: 0.3830 - accuracy: 0.8730 - val_loss: 1.2039 - val_accuracy: 0.6602\n",
            "Epoch 66/140\n",
            "158/158 [==============================] - 4s 25ms/step - loss: 0.3697 - accuracy: 0.8738 - val_loss: 1.2723 - val_accuracy: 0.6553\n",
            "Epoch 67/140\n",
            "158/158 [==============================] - 4s 25ms/step - loss: 0.3614 - accuracy: 0.8812 - val_loss: 1.1738 - val_accuracy: 0.6748\n",
            "Epoch 68/140\n",
            "158/158 [==============================] - 4s 24ms/step - loss: 0.3982 - accuracy: 0.8689 - val_loss: 1.2436 - val_accuracy: 0.6748\n",
            "Epoch 69/140\n",
            "158/158 [==============================] - 4s 24ms/step - loss: 0.3712 - accuracy: 0.8765 - val_loss: 1.1551 - val_accuracy: 0.6796\n",
            "Epoch 70/140\n",
            "158/158 [==============================] - 4s 24ms/step - loss: 0.3705 - accuracy: 0.8740 - val_loss: 1.1946 - val_accuracy: 0.6893\n",
            "Epoch 71/140\n",
            "158/158 [==============================] - 4s 25ms/step - loss: 0.3803 - accuracy: 0.8804 - val_loss: 1.3005 - val_accuracy: 0.6650\n",
            "Epoch 72/140\n",
            "158/158 [==============================] - 4s 24ms/step - loss: 0.3624 - accuracy: 0.8818 - val_loss: 1.2108 - val_accuracy: 0.6845\n",
            "Epoch 73/140\n",
            "158/158 [==============================] - 4s 24ms/step - loss: 0.3732 - accuracy: 0.8723 - val_loss: 1.2628 - val_accuracy: 0.6505\n",
            "Epoch 74/140\n",
            "158/158 [==============================] - 4s 24ms/step - loss: 0.3649 - accuracy: 0.8772 - val_loss: 1.3714 - val_accuracy: 0.6262\n",
            "Epoch 75/140\n",
            "158/158 [==============================] - 4s 24ms/step - loss: 0.3665 - accuracy: 0.8802 - val_loss: 1.3057 - val_accuracy: 0.6748\n",
            "Epoch 76/140\n",
            "158/158 [==============================] - 4s 24ms/step - loss: 0.3315 - accuracy: 0.8873 - val_loss: 1.2888 - val_accuracy: 0.6699\n",
            "Epoch 77/140\n",
            "158/158 [==============================] - 4s 24ms/step - loss: 0.3566 - accuracy: 0.8798 - val_loss: 1.1854 - val_accuracy: 0.6748\n",
            "Epoch 78/140\n",
            "158/158 [==============================] - 4s 24ms/step - loss: 0.3670 - accuracy: 0.8724 - val_loss: 1.2541 - val_accuracy: 0.6796\n",
            "Epoch 79/140\n",
            "158/158 [==============================] - 4s 25ms/step - loss: 0.3436 - accuracy: 0.8817 - val_loss: 1.2503 - val_accuracy: 0.6990\n",
            "Epoch 80/140\n",
            "158/158 [==============================] - 4s 24ms/step - loss: 0.3287 - accuracy: 0.8932 - val_loss: 1.2328 - val_accuracy: 0.6699\n",
            "Epoch 81/140\n",
            "158/158 [==============================] - 4s 25ms/step - loss: 0.3342 - accuracy: 0.8877 - val_loss: 1.1574 - val_accuracy: 0.6893\n",
            "Epoch 82/140\n",
            "158/158 [==============================] - 4s 24ms/step - loss: 0.3282 - accuracy: 0.8888 - val_loss: 1.1833 - val_accuracy: 0.6650\n",
            "Epoch 83/140\n",
            "158/158 [==============================] - 4s 24ms/step - loss: 0.3315 - accuracy: 0.8900 - val_loss: 1.2195 - val_accuracy: 0.6990\n",
            "Epoch 84/140\n",
            "158/158 [==============================] - 4s 25ms/step - loss: 0.3265 - accuracy: 0.8878 - val_loss: 1.2143 - val_accuracy: 0.6796\n",
            "Epoch 85/140\n",
            "158/158 [==============================] - 4s 24ms/step - loss: 0.3410 - accuracy: 0.8877 - val_loss: 1.3191 - val_accuracy: 0.6553\n",
            "Epoch 86/140\n",
            "158/158 [==============================] - 4s 25ms/step - loss: 0.3323 - accuracy: 0.8910 - val_loss: 1.2702 - val_accuracy: 0.6942\n",
            "Epoch 87/140\n",
            "158/158 [==============================] - 4s 25ms/step - loss: 0.3312 - accuracy: 0.8847 - val_loss: 1.1605 - val_accuracy: 0.6942\n",
            "Epoch 88/140\n",
            "158/158 [==============================] - 4s 25ms/step - loss: 0.3317 - accuracy: 0.8871 - val_loss: 1.1270 - val_accuracy: 0.7184\n",
            "Epoch 89/140\n",
            "158/158 [==============================] - 4s 24ms/step - loss: 0.2975 - accuracy: 0.9039 - val_loss: 1.2100 - val_accuracy: 0.7039\n",
            "Epoch 90/140\n",
            "158/158 [==============================] - 4s 24ms/step - loss: 0.3061 - accuracy: 0.9008 - val_loss: 1.1842 - val_accuracy: 0.6942\n",
            "Epoch 91/140\n",
            "158/158 [==============================] - 4s 24ms/step - loss: 0.3053 - accuracy: 0.8999 - val_loss: 1.0897 - val_accuracy: 0.6893\n",
            "Epoch 92/140\n",
            "158/158 [==============================] - 4s 24ms/step - loss: 0.3416 - accuracy: 0.8848 - val_loss: 1.2411 - val_accuracy: 0.6748\n",
            "Epoch 93/140\n",
            "158/158 [==============================] - 4s 24ms/step - loss: 0.2928 - accuracy: 0.9020 - val_loss: 1.2794 - val_accuracy: 0.6845\n",
            "Epoch 94/140\n",
            "158/158 [==============================] - 4s 24ms/step - loss: 0.3068 - accuracy: 0.8956 - val_loss: 1.2618 - val_accuracy: 0.7039\n",
            "Epoch 95/140\n",
            "158/158 [==============================] - 4s 25ms/step - loss: 0.3361 - accuracy: 0.8909 - val_loss: 1.1732 - val_accuracy: 0.6942\n",
            "Epoch 96/140\n",
            "158/158 [==============================] - 4s 24ms/step - loss: 0.3321 - accuracy: 0.8901 - val_loss: 1.2902 - val_accuracy: 0.6990\n",
            "Epoch 97/140\n",
            "158/158 [==============================] - 4s 24ms/step - loss: 0.2988 - accuracy: 0.8994 - val_loss: 1.1241 - val_accuracy: 0.7233\n",
            "Epoch 98/140\n",
            "158/158 [==============================] - 4s 25ms/step - loss: 0.3094 - accuracy: 0.8913 - val_loss: 1.2476 - val_accuracy: 0.7136\n",
            "Epoch 99/140\n",
            "158/158 [==============================] - 4s 25ms/step - loss: 0.2972 - accuracy: 0.9018 - val_loss: 1.1599 - val_accuracy: 0.6942\n",
            "Epoch 100/140\n",
            "158/158 [==============================] - 4s 25ms/step - loss: 0.3120 - accuracy: 0.8896 - val_loss: 1.3234 - val_accuracy: 0.6990\n",
            "Epoch 101/140\n",
            "158/158 [==============================] - 4s 25ms/step - loss: 0.3158 - accuracy: 0.8941 - val_loss: 1.2170 - val_accuracy: 0.7136\n",
            "Epoch 102/140\n",
            "158/158 [==============================] - 4s 25ms/step - loss: 0.3321 - accuracy: 0.8944 - val_loss: 1.2936 - val_accuracy: 0.6845\n",
            "Epoch 103/140\n",
            "158/158 [==============================] - 4s 25ms/step - loss: 0.2919 - accuracy: 0.9070 - val_loss: 1.2486 - val_accuracy: 0.6796\n",
            "Epoch 104/140\n",
            "158/158 [==============================] - 4s 25ms/step - loss: 0.3254 - accuracy: 0.8911 - val_loss: 1.2596 - val_accuracy: 0.7039\n",
            "Epoch 105/140\n",
            "158/158 [==============================] - 4s 25ms/step - loss: 0.2997 - accuracy: 0.8993 - val_loss: 1.1593 - val_accuracy: 0.7136\n",
            "Epoch 106/140\n",
            "158/158 [==============================] - 4s 25ms/step - loss: 0.2756 - accuracy: 0.9081 - val_loss: 1.4117 - val_accuracy: 0.6845\n",
            "Epoch 107/140\n",
            "158/158 [==============================] - 4s 25ms/step - loss: 0.2913 - accuracy: 0.9021 - val_loss: 1.2179 - val_accuracy: 0.7136\n",
            "Epoch 108/140\n",
            "158/158 [==============================] - 4s 25ms/step - loss: 0.2897 - accuracy: 0.9011 - val_loss: 1.2665 - val_accuracy: 0.7039\n",
            "Epoch 109/140\n",
            "158/158 [==============================] - 4s 25ms/step - loss: 0.2781 - accuracy: 0.9106 - val_loss: 1.2366 - val_accuracy: 0.6942\n",
            "Epoch 110/140\n",
            "158/158 [==============================] - 4s 25ms/step - loss: 0.2803 - accuracy: 0.9033 - val_loss: 1.2955 - val_accuracy: 0.6553\n",
            "Epoch 111/140\n",
            "158/158 [==============================] - 4s 25ms/step - loss: 0.3086 - accuracy: 0.9005 - val_loss: 1.2140 - val_accuracy: 0.7087\n",
            "Epoch 112/140\n",
            "158/158 [==============================] - 4s 25ms/step - loss: 0.2955 - accuracy: 0.9014 - val_loss: 1.1913 - val_accuracy: 0.7233\n",
            "Epoch 113/140\n",
            "158/158 [==============================] - 4s 25ms/step - loss: 0.2983 - accuracy: 0.9042 - val_loss: 1.2606 - val_accuracy: 0.6990\n",
            "Epoch 114/140\n",
            "158/158 [==============================] - 4s 25ms/step - loss: 0.2909 - accuracy: 0.9045 - val_loss: 1.2845 - val_accuracy: 0.6893\n",
            "Epoch 115/140\n",
            "158/158 [==============================] - 4s 24ms/step - loss: 0.2596 - accuracy: 0.9128 - val_loss: 1.1682 - val_accuracy: 0.6796\n",
            "Epoch 116/140\n",
            "158/158 [==============================] - 4s 25ms/step - loss: 0.2916 - accuracy: 0.9049 - val_loss: 1.1866 - val_accuracy: 0.7136\n",
            "Epoch 117/140\n",
            "158/158 [==============================] - 4s 25ms/step - loss: 0.2887 - accuracy: 0.9096 - val_loss: 1.2073 - val_accuracy: 0.7087\n",
            "Epoch 118/140\n",
            "158/158 [==============================] - 4s 24ms/step - loss: 0.3043 - accuracy: 0.9010 - val_loss: 1.2118 - val_accuracy: 0.7136\n",
            "Epoch 119/140\n",
            "158/158 [==============================] - 4s 25ms/step - loss: 0.2598 - accuracy: 0.9101 - val_loss: 1.1260 - val_accuracy: 0.7136\n",
            "Epoch 120/140\n",
            "158/158 [==============================] - 4s 24ms/step - loss: 0.2730 - accuracy: 0.9102 - val_loss: 1.3614 - val_accuracy: 0.6942\n",
            "Epoch 121/140\n",
            "158/158 [==============================] - 4s 24ms/step - loss: 0.2745 - accuracy: 0.9126 - val_loss: 1.2248 - val_accuracy: 0.7087\n",
            "Epoch 122/140\n",
            "158/158 [==============================] - 4s 24ms/step - loss: 0.2826 - accuracy: 0.9064 - val_loss: 1.2730 - val_accuracy: 0.6893\n",
            "Epoch 123/140\n",
            "158/158 [==============================] - 4s 25ms/step - loss: 0.2873 - accuracy: 0.9018 - val_loss: 1.3091 - val_accuracy: 0.7136\n",
            "Epoch 124/140\n",
            "158/158 [==============================] - 4s 25ms/step - loss: 0.2710 - accuracy: 0.9089 - val_loss: 1.2703 - val_accuracy: 0.7039\n",
            "Epoch 125/140\n",
            "158/158 [==============================] - 4s 24ms/step - loss: 0.2728 - accuracy: 0.9091 - val_loss: 1.4033 - val_accuracy: 0.6990\n",
            "Epoch 126/140\n",
            "158/158 [==============================] - 4s 25ms/step - loss: 0.2761 - accuracy: 0.9100 - val_loss: 1.3464 - val_accuracy: 0.7039\n",
            "Epoch 127/140\n",
            "158/158 [==============================] - 4s 25ms/step - loss: 0.2804 - accuracy: 0.9039 - val_loss: 1.1726 - val_accuracy: 0.7427\n",
            "Epoch 128/140\n",
            "158/158 [==============================] - 4s 25ms/step - loss: 0.2470 - accuracy: 0.9153 - val_loss: 1.2940 - val_accuracy: 0.7087\n",
            "Epoch 129/140\n",
            "158/158 [==============================] - 4s 24ms/step - loss: 0.2487 - accuracy: 0.9131 - val_loss: 1.3456 - val_accuracy: 0.6893\n",
            "Epoch 130/140\n",
            "158/158 [==============================] - 4s 25ms/step - loss: 0.2702 - accuracy: 0.9095 - val_loss: 1.4102 - val_accuracy: 0.7039\n",
            "Epoch 131/140\n",
            "158/158 [==============================] - 4s 25ms/step - loss: 0.2816 - accuracy: 0.9085 - val_loss: 1.4168 - val_accuracy: 0.7039\n",
            "Epoch 132/140\n",
            "158/158 [==============================] - 4s 25ms/step - loss: 0.2573 - accuracy: 0.9141 - val_loss: 1.2415 - val_accuracy: 0.6796\n",
            "Epoch 133/140\n",
            "158/158 [==============================] - 4s 25ms/step - loss: 0.2502 - accuracy: 0.9168 - val_loss: 1.3461 - val_accuracy: 0.6796\n",
            "Epoch 134/140\n",
            "158/158 [==============================] - 4s 25ms/step - loss: 0.2851 - accuracy: 0.9072 - val_loss: 1.3354 - val_accuracy: 0.7184\n",
            "Epoch 135/140\n",
            "158/158 [==============================] - 4s 25ms/step - loss: 0.2909 - accuracy: 0.9057 - val_loss: 1.3193 - val_accuracy: 0.7282\n",
            "Epoch 136/140\n",
            "158/158 [==============================] - 4s 25ms/step - loss: 0.2512 - accuracy: 0.9170 - val_loss: 1.1948 - val_accuracy: 0.7282\n",
            "Epoch 137/140\n",
            "158/158 [==============================] - 4s 25ms/step - loss: 0.2858 - accuracy: 0.9076 - val_loss: 1.3895 - val_accuracy: 0.6796\n",
            "Epoch 138/140\n",
            "158/158 [==============================] - 4s 25ms/step - loss: 0.2749 - accuracy: 0.9122 - val_loss: 1.4091 - val_accuracy: 0.6796\n",
            "Epoch 139/140\n",
            "158/158 [==============================] - 4s 25ms/step - loss: 0.2739 - accuracy: 0.9141 - val_loss: 1.1814 - val_accuracy: 0.7233\n",
            "Epoch 140/140\n",
            "158/158 [==============================] - 4s 25ms/step - loss: 0.2635 - accuracy: 0.9146 - val_loss: 1.2658 - val_accuracy: 0.7039\n"
          ],
          "name": "stdout"
        }
      ]
    },
    {
      "cell_type": "code",
      "metadata": {
        "id": "gu3CQSzLW16X",
        "colab": {
          "base_uri": "https://localhost:8080/"
        },
        "outputId": "a58bed9a-1dca-46e6-ad52-b7d64e6d382f"
      },
      "source": [
        "loss_and_metrics = model.evaluate(X_test, Y_test, verbose=2)\n",
        "print(\"Test Loss:\", loss_and_metrics[0])\n",
        "# Evaluating the model accuracy in percents\n",
        "print(\"Model Accuracy:\", loss_and_metrics[1] * 100, \"%\")"
      ],
      "execution_count": 15,
      "outputs": [
        {
          "output_type": "stream",
          "text": [
            "7/7 - 0s - loss: 1.2658 - accuracy: 0.7039\n",
            "Test Loss: 1.265848159790039\n",
            "Model Accuracy: 70.38834691047668 %\n"
          ],
          "name": "stdout"
        }
      ]
    },
    {
      "cell_type": "code",
      "metadata": {
        "colab": {
          "base_uri": "https://localhost:8080/"
        },
        "id": "ZftR5ER1n2rZ",
        "outputId": "33fcd71f-4192-4d7f-f169-bb9286e702e6"
      },
      "source": [
        "# Making a prediction of the validation data\n",
        "y_pred_val = model.predict(x_test)\n",
        "\n",
        "y_pred = np.argmax(model.predict(x_test), axis=-1)\n",
        "print(len(y_pred))\n",
        "\n",
        "#Printing the first element of y_pred\n",
        "y_pred[0]"
      ],
      "execution_count": 16,
      "outputs": [
        {
          "output_type": "stream",
          "text": [
            "15009\n"
          ],
          "name": "stdout"
        },
        {
          "output_type": "execute_result",
          "data": {
            "text/plain": [
              "13"
            ]
          },
          "metadata": {
            "tags": []
          },
          "execution_count": 16
        }
      ]
    },
    {
      "cell_type": "code",
      "metadata": {
        "colab": {
          "base_uri": "https://localhost:8080/",
          "height": 295
        },
        "id": "qZ4TvT-K4gs0",
        "outputId": "0c36d85d-ec70-4437-cc4d-60a073eeadde"
      },
      "source": [
        "loss_train = history.history['loss']\n",
        "loss_val = history.history['val_loss']\n",
        "epochs = range(1,141)\n",
        "plt.plot(epochs, loss_train,'r', label='Training loss')\n",
        "plt.plot(epochs, loss_val,'b', label='Validation loss')\n",
        "plt.title('Training and Validation losses of the model')\n",
        "plt.xlabel('Epochs')\n",
        "plt.ylabel('Loss')\n",
        "plt.legend()\n",
        "plt.show()"
      ],
      "execution_count": 17,
      "outputs": [
        {
          "output_type": "display_data",
          "data": {
            "image/png": "[encoded data removed]",
            "text/plain": [
              "<Figure size 432x288 with 1 Axes>"
            ]
          },
          "metadata": {
            "tags": [],
            "needs_background": "light"
          }
        }
      ]
    },
    {
      "cell_type": "code",
      "metadata": {
        "colab": {
          "base_uri": "https://localhost:8080/",
          "height": 295
        },
        "id": "0aCvAvGL6Tqi",
        "outputId": "f6cb61ea-5b51-48de-8313-311d0c276218"
      },
      "source": [
        "plt.plot(history.history['accuracy'])\n",
        "plt.plot(history.history['val_accuracy'])\n",
        "plt.title('Model Accuracy')\n",
        "plt.xlabel('Epochs')\n",
        "plt.ylabel('Accuracy')\n",
        "plt.legend(['Training Accuracy', 'Validation Accuracy'], loc='lower right')\n",
        "plt.show()"
      ],
      "execution_count": 18,
      "outputs": [
        {
          "output_type": "display_data",
          "data": {
            "image/png": "[encoded data removed]",
            "text/plain": [
              "<Figure size 432x288 with 1 Axes>"
            ]
          },
          "metadata": {
            "tags": [],
            "needs_background": "light"
          }
        }
      ]
    },
    {
      "cell_type": "code",
      "metadata": {
        "id": "1H4w7Y3n6vcZ"
      },
      "source": [
        "model.save('my_model.h5')"
      ],
      "execution_count": 19,
      "outputs": []
    },
    {
      "cell_type": "code",
      "metadata": {
        "colab": {
          "base_uri": "https://localhost:8080/",
          "height": 362
        },
        "id": "D3SOcXVD8gaY",
        "outputId": "afdaa41e-6971-4f41-f770-e0739f9e3853"
      },
      "source": [
        "#Defining confusion matrix\n",
        "import itertools\n",
        "from sklearn.metrics import confusion_matrix\n",
        "cm = confusion_matrix(y_true=y_pred, y_pred=y_pred_val)"
      ],
      "execution_count": 23,
      "outputs": [
        {
          "output_type": "error",
          "ename": "ValueError",
          "evalue": "ignored",
          "traceback": [
            "\u001b[0;31m---------------------------------------------------------------------------\u001b[0m",
            "\u001b[0;31mValueError\u001b[0m                                Traceback (most recent call last)",
            "\u001b[0;32m<ipython-input-23-44214bbdbdca>\u001b[0m in \u001b[0;36m<module>\u001b[0;34m()\u001b[0m\n\u001b[1;32m      2\u001b[0m \u001b[0;32mimport\u001b[0m \u001b[0mitertools\u001b[0m\u001b[0;34m\u001b[0m\u001b[0;34m\u001b[0m\u001b[0m\n\u001b[1;32m      3\u001b[0m \u001b[0;32mfrom\u001b[0m \u001b[0msklearn\u001b[0m\u001b[0;34m.\u001b[0m\u001b[0mmetrics\u001b[0m \u001b[0;32mimport\u001b[0m \u001b[0mconfusion_matrix\u001b[0m\u001b[0;34m\u001b[0m\u001b[0;34m\u001b[0m\u001b[0m\n\u001b[0;32m----> 4\u001b[0;31m \u001b[0mcm\u001b[0m \u001b[0;34m=\u001b[0m \u001b[0mconfusion_matrix\u001b[0m\u001b[0;34m(\u001b[0m\u001b[0my_true\u001b[0m\u001b[0;34m=\u001b[0m\u001b[0my_pred\u001b[0m\u001b[0;34m,\u001b[0m \u001b[0my_pred\u001b[0m\u001b[0;34m=\u001b[0m\u001b[0my_pred_val\u001b[0m\u001b[0;34m)\u001b[0m\u001b[0;34m\u001b[0m\u001b[0;34m\u001b[0m\u001b[0m\n\u001b[0m",
            "\u001b[0;32m/usr/local/lib/python3.7/dist-packages/sklearn/metrics/_classification.py\u001b[0m in \u001b[0;36mconfusion_matrix\u001b[0;34m(y_true, y_pred, labels, sample_weight, normalize)\u001b[0m\n\u001b[1;32m    266\u001b[0m \u001b[0;34m\u001b[0m\u001b[0m\n\u001b[1;32m    267\u001b[0m     \"\"\"\n\u001b[0;32m--> 268\u001b[0;31m     \u001b[0my_type\u001b[0m\u001b[0;34m,\u001b[0m \u001b[0my_true\u001b[0m\u001b[0;34m,\u001b[0m \u001b[0my_pred\u001b[0m \u001b[0;34m=\u001b[0m \u001b[0m_check_targets\u001b[0m\u001b[0;34m(\u001b[0m\u001b[0my_true\u001b[0m\u001b[0;34m,\u001b[0m \u001b[0my_pred\u001b[0m\u001b[0;34m)\u001b[0m\u001b[0;34m\u001b[0m\u001b[0;34m\u001b[0m\u001b[0m\n\u001b[0m\u001b[1;32m    269\u001b[0m     \u001b[0;32mif\u001b[0m \u001b[0my_type\u001b[0m \u001b[0;32mnot\u001b[0m \u001b[0;32min\u001b[0m \u001b[0;34m(\u001b[0m\u001b[0;34m\"binary\"\u001b[0m\u001b[0;34m,\u001b[0m \u001b[0;34m\"multiclass\"\u001b[0m\u001b[0;34m)\u001b[0m\u001b[0;34m:\u001b[0m\u001b[0;34m\u001b[0m\u001b[0;34m\u001b[0m\u001b[0m\n\u001b[1;32m    270\u001b[0m         \u001b[0;32mraise\u001b[0m \u001b[0mValueError\u001b[0m\u001b[0;34m(\u001b[0m\u001b[0;34m\"%s is not supported\"\u001b[0m \u001b[0;34m%\u001b[0m \u001b[0my_type\u001b[0m\u001b[0;34m)\u001b[0m\u001b[0;34m\u001b[0m\u001b[0;34m\u001b[0m\u001b[0m\n",
            "\u001b[0;32m/usr/local/lib/python3.7/dist-packages/sklearn/metrics/_classification.py\u001b[0m in \u001b[0;36m_check_targets\u001b[0;34m(y_true, y_pred)\u001b[0m\n\u001b[1;32m     88\u001b[0m     \u001b[0;32mif\u001b[0m \u001b[0mlen\u001b[0m\u001b[0;34m(\u001b[0m\u001b[0my_type\u001b[0m\u001b[0;34m)\u001b[0m \u001b[0;34m>\u001b[0m \u001b[0;36m1\u001b[0m\u001b[0;34m:\u001b[0m\u001b[0;34m\u001b[0m\u001b[0;34m\u001b[0m\u001b[0m\n\u001b[1;32m     89\u001b[0m         raise ValueError(\"Classification metrics can't handle a mix of {0} \"\n\u001b[0;32m---> 90\u001b[0;31m                          \"and {1} targets\".format(type_true, type_pred))\n\u001b[0m\u001b[1;32m     91\u001b[0m \u001b[0;34m\u001b[0m\u001b[0m\n\u001b[1;32m     92\u001b[0m     \u001b[0;31m# We can't have more than one value on y_type => The set is no more needed\u001b[0m\u001b[0;34m\u001b[0m\u001b[0;34m\u001b[0m\u001b[0;34m\u001b[0m\u001b[0m\n",
            "\u001b[0;31mValueError\u001b[0m: Classification metrics can't handle a mix of multiclass and continuous-multioutput targets"
          ]
        }
      ]
    },
    {
      "cell_type": "code",
      "metadata": {
        "colab": {
          "base_uri": "https://localhost:8080/",
          "height": 475
        },
        "id": "rsPmHxOW1Jmt",
        "outputId": "e7a69d39-134b-4262-9579-2437f157e490"
      },
      "source": [
        "#Creating a confusion matrix function for visualisation purposes\n",
        "def plot_confusion_matrix(cm, classes,\n",
        "                        normalize=False,\n",
        "                        title='Confusion matrix',\n",
        "                        cmap=plt.cm.Blues):\n",
        "\n",
        "    plt.figure(figsize=(9, 9))\n",
        "    plt.imshow(cm, interpolation='nearest', cmap=cmap)\n",
        "    plt.title(title)\n",
        "    plt.colorbar()\n",
        "    tick_marks = np.arange(len(classes))\n",
        "    plt.xticks(tick_marks, classes, rotation=45)\n",
        "    plt.yticks(tick_marks, classes)\n",
        " \n",
        "    if normalize:\n",
        "        cm = cm.astype('float') / cm.sum(axis=1)[:, np.newaxis]\n",
        "        print(\"Normalized confusion matrix\")\n",
        "    else:\n",
        "       print('Confusion matrix, without normalization')\n",
        " \n",
        "    print(cm)\n",
        " \n",
        "    thresh = cm.max() / 2.\n",
        "    for i, j in itertools.product(range(cm.shape[0]), range(cm.shape[1])):\n",
        "        plt.text(j, i, cm[i, j],\n",
        "            horizontalalignment=\"center\",\n",
        "            color=\"white\"if cm[i, j] > thresh else\"black\")\n",
        " \n",
        "plt.tight_layout()\n",
        "plt.ylabel('True label')\n",
        "plt.xlabel('Predicted label')\n",
        "\n",
        "#Plotting the confusion matrix\n",
        "plot_confusion_matrix(cm=cm, classes=cm_plot_labels, title='Confusion Matrix')"
      ],
      "execution_count": null,
      "outputs": [
        {
          "output_type": "error",
          "ename": "NameError",
          "evalue": "ignored",
          "traceback": [
            "\u001b[0;31m---------------------------------------------------------------------------\u001b[0m",
            "\u001b[0;31mNameError\u001b[0m                                 Traceback (most recent call last)",
            "\u001b[0;32m<ipython-input-77-2c387ff3c473>\u001b[0m in \u001b[0;36m<module>\u001b[0;34m()\u001b[0m\n\u001b[1;32m     32\u001b[0m \u001b[0;34m\u001b[0m\u001b[0m\n\u001b[1;32m     33\u001b[0m \u001b[0;31m#Plotting the confusion matrix\u001b[0m\u001b[0;34m\u001b[0m\u001b[0;34m\u001b[0m\u001b[0;34m\u001b[0m\u001b[0m\n\u001b[0;32m---> 34\u001b[0;31m \u001b[0mplot_confusion_matrix\u001b[0m\u001b[0;34m(\u001b[0m\u001b[0mcm\u001b[0m\u001b[0;34m=\u001b[0m\u001b[0mcm\u001b[0m\u001b[0;34m,\u001b[0m \u001b[0mclasses\u001b[0m\u001b[0;34m=\u001b[0m\u001b[0mcm_plot_labels\u001b[0m\u001b[0;34m,\u001b[0m \u001b[0mtitle\u001b[0m\u001b[0;34m=\u001b[0m\u001b[0;34m'Confusion Matrix'\u001b[0m\u001b[0;34m)\u001b[0m\u001b[0;34m\u001b[0m\u001b[0;34m\u001b[0m\u001b[0m\n\u001b[0m",
            "\u001b[0;31mNameError\u001b[0m: name 'cm' is not defined"
          ]
        },
        {
          "output_type": "display_data",
          "data": {
            "image/png": "[encoded data removed]",
            "text/plain": [
              "<Figure size 432x288 with 1 Axes>"
            ]
          },
          "metadata": {
            "tags": [],
            "needs_background": "light"
          }
        }
      ]
    },
    {
      "cell_type": "code",
      "metadata": {
        "id": "4M-52GfGn4L9"
      },
      "source": [
        "#Creating ther .csv file\n",
        "col = pd.read_csv(\"COM2028_Coursework/submission_sample.csv\")\n",
        "col[\"label\"] = y_pred\n",
        "col.to_csv(\"COM2028_Coursework/vm00328_CW_AI.csv\", index=False)"
      ],
      "execution_count": 20,
      "outputs": []
    }
  ]
}