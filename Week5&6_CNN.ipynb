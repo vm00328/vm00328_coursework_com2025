{
  "nbformat": 4,
  "nbformat_minor": 0,
  "metadata": {
    "accelerator": "GPU",
    "colab": {
      "name": "Week5&6_CNN.ipynb",
      "provenance": [],
      "collapsed_sections": [],
      "toc_visible": true,
      "include_colab_link": true
    },
    "kernelspec": {
      "display_name": "Python 3",
      "name": "python3"
    },
    "language_info": {
      "codemirror_mode": {
        "name": "ipython",
        "version": 3
      },
      "file_extension": ".py",
      "mimetype": "text/x-python",
      "name": "python",
      "nbconvert_exporter": "python",
      "pygments_lexer": "ipython3",
      "version": "3.6.8"
    },
    "nteract": {
      "version": "0.21.0"
    }
  },
  "cells": [
    {
      "cell_type": "markdown",
      "metadata": {
        "id": "view-in-github",
        "colab_type": "text"
      },
      "source": [
        "<a href=\"https://colab.research.google.com/github/vm00328/vm00328_coursework_com2025/blob/master/Week5%266_CNN.ipynb\" target=\"_parent\"><img src=\"https://colab.research.google.com/assets/colab-badge.svg\" alt=\"Open In Colab\"/></a>"
      ]
    },
    {
      "cell_type": "markdown",
      "metadata": {
        "id": "E9GCGMtwyohS"
      },
      "source": [
        "# Convolutional Neural Networks (CNN)\n",
        "\n",
        "In the first part of this lab session we will explore how __convolutions__ work, basic __CNN architectures__ and __impact of hyperparameters__. <br>\n",
        "In the second part you will integrate neural network trained in part 1, to the drawing program to continuously predict drawn object.  \n"
      ]
    },
    {
      "cell_type": "markdown",
      "metadata": {
        "id": "mRp_qWdxyohW"
      },
      "source": [
        "## Basic Imports\n",
        "\n",
        "For this lab session, we will be needing Keras, Numpy and Tensorflow. <br>\n",
        "We will build our CNN in Keras, but first we need to understand the underlying principles, for which we will use Tensorflow. <br>\n",
        "Numpy will be mainly used for dataset preprocessing."
      ]
    },
    {
      "cell_type": "code",
      "metadata": {
        "id": "5P4TN6uLyohX"
      },
      "source": [
        "import keras\n",
        "import numpy as np\n",
        "\n",
        "from numpy.random import seed\n",
        "import tensorflow as tf"
      ],
      "execution_count": null,
      "outputs": []
    },
    {
      "cell_type": "markdown",
      "metadata": {
        "id": "coF3bUaByohe"
      },
      "source": [
        "## Replicability\n",
        "While experimenting and researching, it is important that your results can be __replicated by other people__. <br>\n",
        "To ensure some level of replicability, we can __set the starting seed__ of both numpy and tensorflow __to known value__. <br>\n",
        "Therefore, when we initialise our network to random values, these states can be calculated and replicated just by knowing the seed.<br>\n",
        "Sadly, due to the lossy nature of GPU calculations, training itself cannot be perfectly replicated, but it is still good practice to set initial seeds to known values. "
      ]
    },
    {
      "cell_type": "code",
      "metadata": {
        "id": "68_hPQu8yohf"
      },
      "source": [
        "seed(101)\n",
        "tf.random.set_seed(101)"
      ],
      "execution_count": null,
      "outputs": []
    },
    {
      "cell_type": "markdown",
      "metadata": {
        "id": "VE6znDdhyohj"
      },
      "source": [
        "## Low Level Code\n",
        "\n",
        "While building model, we will add whole convolution layer in a neat package `Conv2D()`. <br>\n",
        "But before we do so, it is good to understand the __underlaying mechanics__ and __code implementation__ of convolutions. <br>\n",
        "In the following example, we will define our image/data array `inputs`, and using `kernel` apply 2D convolution. <br>\n",
        "Full implemenation of convolution layer can be found <a src=\"https://github.com/keras-team/keras/blob/8ed57c168f171de7420e9a96f9e305b8236757df/keras/layers/convolutional.py#L161\"> here</a>. <br>\n",
        "\n",
        "\n",
        "A convolution input must have shape of `(BatchSize, width, height, inputChannels)` <br>\n",
        "A convolution filter must have shape of `(width, height, inputChannels, outputChannels)` <br>\n",
        "\n",
        "### Task\n",
        "1) Experiment with different strides, kernel, padding etc. <br>\n",
        "2) Why does first ouput element equal to 21.0?"
      ]
    },
    {
      "cell_type": "markdown",
      "metadata": {
        "id": "tMy6HP4Wyohi"
      },
      "source": [
        "# Convolutions\n",
        "\n",
        "Convolutional Neural Networks (CNNs) are designed to learn features directly from image pixels. They can classify patterns or objects with extreme variability. Currently, they form the core of various __computer vision systems__ such as Facebooks automated photo tagging, handwritten characters recognition, self-driving cars, marine mammal detection, and medical image analysis. In this lab, we will start by exploring a convolution function which forms the heart of CNNs.\n",
        "\n",
        "![Convolution](https://raw.githubusercontent.com/RetinalSW/COM3025/master/data/convolution_kernal.png)\n",
        "\n",
        "\n"
      ]
    },
    {
      "cell_type": "code",
      "metadata": {
        "colab": {
          "base_uri": "https://localhost:8080/"
        },
        "id": "EDUa_aP1yohj",
        "outputId": "f9d79083-68f6-444d-f651-466c8c3cc74d"
      },
      "source": [
        "# We need keras.backend and tensorflow to create proper tensors directly\n",
        "import keras.backend as K\n",
        "import tensorflow as tf\n",
        "\n",
        "\n",
        "inputs = tf.constant([[[1.0],  [2.0],  [3.0],  [4.0],  [5.0]],\n",
        "                      [[6.0],  [7.0],  [8.0],  [9.0],  [10.0]],\n",
        "                      [[11.0], [12.0], [13.0], [14.0], [15.0]],\n",
        "                      [[16.0], [17.0], [18.0], [19.0], [20.0]],\n",
        "                      [[21.0], [22.0], [23.0], [24.0], [25.0]]\n",
        "                     ])\n",
        "\n",
        "\n",
        "kernel = tf.constant([[1.0,0.0,0.0],\n",
        "                      [0.0,1.0,0.0],\n",
        "                      [0.0,0.0,1.0]])\n",
        "\n",
        "\n",
        "\n",
        "inputs = K.reshape(inputs,(-1,5,5,1))\n",
        "print(\"Shape of an Input:\", inputs.get_shape)\n",
        "\n",
        "kernel =K.reshape(kernel,(3,3,1,1))\n",
        "print(\"Shape of a Kernel\", kernel.get_shape)\n",
        "\n",
        "strides=(1, 1)\n",
        "padding='valid'\n",
        "\n",
        "result = K.conv2d(inputs, kernel, strides=strides, padding=padding)\n",
        "print(\"Shape of result:\", result.get_shape)\n",
        "\n",
        "print(\"Result:\", K.eval(result))"
      ],
      "execution_count": null,
      "outputs": [
        {
          "output_type": "stream",
          "text": [
            "Shape of an Input: <bound method _EagerTensorBase.get_shape of <tf.Tensor: shape=(1, 5, 5, 1), dtype=float32, numpy=\n",
            "array([[[[ 1.],\n",
            "         [ 2.],\n",
            "         [ 3.],\n",
            "         [ 4.],\n",
            "         [ 5.]],\n",
            "\n",
            "        [[ 6.],\n",
            "         [ 7.],\n",
            "         [ 8.],\n",
            "         [ 9.],\n",
            "         [10.]],\n",
            "\n",
            "        [[11.],\n",
            "         [12.],\n",
            "         [13.],\n",
            "         [14.],\n",
            "         [15.]],\n",
            "\n",
            "        [[16.],\n",
            "         [17.],\n",
            "         [18.],\n",
            "         [19.],\n",
            "         [20.]],\n",
            "\n",
            "        [[21.],\n",
            "         [22.],\n",
            "         [23.],\n",
            "         [24.],\n",
            "         [25.]]]], dtype=float32)>>\n",
            "Shape of a Kernel <bound method _EagerTensorBase.get_shape of <tf.Tensor: shape=(3, 3, 1, 1), dtype=float32, numpy=\n",
            "array([[[[1.]],\n",
            "\n",
            "        [[0.]],\n",
            "\n",
            "        [[0.]]],\n",
            "\n",
            "\n",
            "       [[[0.]],\n",
            "\n",
            "        [[1.]],\n",
            "\n",
            "        [[0.]]],\n",
            "\n",
            "\n",
            "       [[[0.]],\n",
            "\n",
            "        [[0.]],\n",
            "\n",
            "        [[1.]]]], dtype=float32)>>\n",
            "Shape of result: <bound method _EagerTensorBase.get_shape of <tf.Tensor: shape=(1, 3, 3, 1), dtype=float32, numpy=\n",
            "array([[[[21.],\n",
            "         [24.],\n",
            "         [27.]],\n",
            "\n",
            "        [[36.],\n",
            "         [39.],\n",
            "         [42.]],\n",
            "\n",
            "        [[51.],\n",
            "         [54.],\n",
            "         [57.]]]], dtype=float32)>>\n",
            "Result: [[[[21.]\n",
            "   [24.]\n",
            "   [27.]]\n",
            "\n",
            "  [[36.]\n",
            "   [39.]\n",
            "   [42.]]\n",
            "\n",
            "  [[51.]\n",
            "   [54.]\n",
            "   [57.]]]]\n"
          ],
          "name": "stdout"
        }
      ]
    },
    {
      "cell_type": "markdown",
      "metadata": {
        "id": "QjIURbvsyohm"
      },
      "source": [
        "# Dropout\n",
        "Dropout consists of __randomly__ setting a fraction `rate` of input units to 0 at each update __during training time__\n",
        "which helps to __prevent overfitting__. <br>\n",
        "To balance the overall signal strength, we increase the non-zero outputs accordingly. \n",
        "\n",
        "\n",
        "## Arguments\n",
        "`rate`: float between 0 and 1. Fraction of the input units to drop."
      ]
    },
    {
      "cell_type": "code",
      "metadata": {
        "colab": {
          "base_uri": "https://localhost:8080/"
        },
        "id": "4pPZrNnNyohm",
        "outputId": "324c6cff-3dc6-47c6-da0b-1ec8d94355a7"
      },
      "source": [
        "inputs = tf.constant([1.0, 1.0, 1.0, 1.0, 1.0, 1.0])\n",
        "rate = 0.8\n",
        "\n",
        "result = K.dropout(inputs, rate, None)\n",
        "print(\"Result:\", K.eval(result))"
      ],
      "execution_count": null,
      "outputs": [
        {
          "output_type": "stream",
          "text": [
            "Result: [0. 0. 0. 0. 5. 0.]\n"
          ],
          "name": "stdout"
        }
      ]
    },
    {
      "cell_type": "markdown",
      "metadata": {
        "id": "12ATZEXIyoho"
      },
      "source": [
        "# Pooling\n",
        "\n",
        "## MaxPooling\n",
        "\n",
        "Another important concept of CNNs is max-pooling, which is a form of\n",
        "non-linear down-sampling. Max-pooling partitions the input image into a\n",
        "set of non-overlapping rectangles and, for each such sub-region, outputs\n",
        "the maximum value.\n",
        "Max-pooling is useful in vision for two reasons:\n",
        "- By eliminating non-maximal values, it reduces computation for upper layers.\n",
        "- It provides a form of translation invariance.\n",
        "\n",
        "\n",
        "## AveragePooling\n",
        "Alternative to MaxPooling is Average pooling, where you take sum of all elements in pool and divide by number of elements. \n",
        "\n",
        "Experiment with different strides, kernel, padding etc. <br> \n"
      ]
    },
    {
      "cell_type": "code",
      "metadata": {
        "colab": {
          "base_uri": "https://localhost:8080/"
        },
        "id": "520X_-ziyoho",
        "outputId": "d71efa2d-18dd-4183-fe43-125a9f480895"
      },
      "source": [
        "inputs = tf.constant([[[1.0],  [2.0],  [3.0],  [4.0],  [5.0]],\n",
        "                      [[6.0],  [7.0],  [8.0],  [9.0],  [10.0]],\n",
        "                      [[11.0], [12.0], [13.0], [14.0], [15.0]],\n",
        "                      [[16.0], [17.0], [18.0], [19.0], [20.0]],\n",
        "                      [[21.0], [22.0], [23.0], [24.0], [25.0]]\n",
        "                     ])\n",
        "\n",
        "inputs = K.reshape(inputs,(-1,5,5,1))\n",
        "print(\"Shape of an Input:\", inputs.get_shape)\n",
        "\n",
        "pool_size = (2,2)\n",
        "strides=(1, 1)\n",
        "padding='valid'\n",
        "data_format=None\n",
        "pool_mode='max' # or use 'avg'\n",
        "\n",
        "result = K.pool2d(inputs, pool_size=pool_size, strides = strides,\n",
        "                          padding = padding, data_format = data_format,\n",
        "                          pool_mode=pool_mode)\n",
        "\n",
        "print(result.get_shape)\n",
        "print(\"Result:\", K.eval(result))"
      ],
      "execution_count": null,
      "outputs": [
        {
          "output_type": "stream",
          "text": [
            "Shape of an Input: <bound method _EagerTensorBase.get_shape of <tf.Tensor: shape=(1, 5, 5, 1), dtype=float32, numpy=\n",
            "array([[[[ 1.],\n",
            "         [ 2.],\n",
            "         [ 3.],\n",
            "         [ 4.],\n",
            "         [ 5.]],\n",
            "\n",
            "        [[ 6.],\n",
            "         [ 7.],\n",
            "         [ 8.],\n",
            "         [ 9.],\n",
            "         [10.]],\n",
            "\n",
            "        [[11.],\n",
            "         [12.],\n",
            "         [13.],\n",
            "         [14.],\n",
            "         [15.]],\n",
            "\n",
            "        [[16.],\n",
            "         [17.],\n",
            "         [18.],\n",
            "         [19.],\n",
            "         [20.]],\n",
            "\n",
            "        [[21.],\n",
            "         [22.],\n",
            "         [23.],\n",
            "         [24.],\n",
            "         [25.]]]], dtype=float32)>>\n",
            "<bound method _EagerTensorBase.get_shape of <tf.Tensor: shape=(1, 4, 4, 1), dtype=float32, numpy=\n",
            "array([[[[ 7.],\n",
            "         [ 8.],\n",
            "         [ 9.],\n",
            "         [10.]],\n",
            "\n",
            "        [[12.],\n",
            "         [13.],\n",
            "         [14.],\n",
            "         [15.]],\n",
            "\n",
            "        [[17.],\n",
            "         [18.],\n",
            "         [19.],\n",
            "         [20.]],\n",
            "\n",
            "        [[22.],\n",
            "         [23.],\n",
            "         [24.],\n",
            "         [25.]]]], dtype=float32)>>\n",
            "Result: [[[[ 7.]\n",
            "   [ 8.]\n",
            "   [ 9.]\n",
            "   [10.]]\n",
            "\n",
            "  [[12.]\n",
            "   [13.]\n",
            "   [14.]\n",
            "   [15.]]\n",
            "\n",
            "  [[17.]\n",
            "   [18.]\n",
            "   [19.]\n",
            "   [20.]]\n",
            "\n",
            "  [[22.]\n",
            "   [23.]\n",
            "   [24.]\n",
            "   [25.]]]]\n"
          ],
          "name": "stdout"
        }
      ]
    },
    {
      "cell_type": "markdown",
      "metadata": {
        "id": "0PZ0c4OppRLv"
      },
      "source": [
        "# Stride and Padding\n",
        "- You might have noticed the padding and stride, but do you know what the stride and padding exactly are?\n",
        "## Convolution animations\n",
        "\n",
        "_N.B.: Blue maps are inputs, and cyan maps are outputs._\n",
        "\n",
        "<table style=\"width:100%; table-layout:fixed;\">\n",
        "  <tr>\n",
        "    <td><img width=\"150px\" src=\"https://github.com/vdumoulin/conv_arithmetic/raw/master/gif/no_padding_no_strides.gif\"></td>\n",
        "    <td><img width=\"150px\" src=\"https://github.com/vdumoulin/conv_arithmetic/raw/master/gif/arbitrary_padding_no_strides.gif\"></td>\n",
        "    <td><img width=\"150px\" src=\"https://github.com/vdumoulin/conv_arithmetic/raw/master/gif/same_padding_no_strides.gif\"></td>\n",
        "    <td><img width=\"150px\" src=\"https://github.com/vdumoulin/conv_arithmetic/raw/master/gif/full_padding_no_strides.gif\"></td>\n",
        "  </tr>\n",
        "  <tr>\n",
        "    <td>No padding, no strides</td>\n",
        "    <td>Arbitrary padding, no strides</td>\n",
        "    <td>Half padding, no strides</td>\n",
        "    <td>Full padding, no strides</td>\n",
        "  </tr>\n",
        "  <tr>\n",
        "    <td><img width=\"150px\" src=\"https://github.com/vdumoulin/conv_arithmetic/raw/master/gif/no_padding_strides.gif\"></td>\n",
        "    <td><img width=\"150px\" src=\"https://github.com/vdumoulin/conv_arithmetic/raw/master/gif/padding_strides.gif\"></td>\n",
        "    <td><img width=\"150px\" src=\"https://github.com/vdumoulin/conv_arithmetic/raw/master/gif/padding_strides_odd.gif\"></td>\n",
        "    <td></td>\n",
        "  </tr>\n",
        "  <tr>\n",
        "    <td>No padding, strides</td>\n",
        "    <td>Padding, strides</td>\n",
        "    <td>Padding, strides (odd)</td>\n",
        "    <td></td>\n",
        "  </tr>\n",
        "</table>\n",
        "\n",
        "## Transposed convolution animations\n",
        "\n",
        "_N.B.: Blue maps are inputs, and cyan maps are outputs._\n",
        "\n",
        "<table style=\"width:100%; table-layout:fixed;\">\n",
        "  <tr>\n",
        "    <td><img width=\"150px\" src=\"https://github.com/vdumoulin/conv_arithmetic/raw/master/gif/no_padding_no_strides_transposed.gif\"></td>\n",
        "    <td><img width=\"150px\" src=\"https://github.com/vdumoulin/conv_arithmetic/raw/master/gif/arbitrary_padding_no_strides_transposed.gif\"></td>\n",
        "    <td><img width=\"150px\" src=\"https://github.com/vdumoulin/conv_arithmetic/raw/master/gif/same_padding_no_strides_transposed.gif\"></td>\n",
        "    <td><img width=\"150px\" src=\"https://github.com/vdumoulin/conv_arithmetic/raw/master/gif/full_padding_no_strides_transposed.gif\"></td>\n",
        "  </tr>\n",
        "  <tr>\n",
        "    <td>No padding, no strides, transposed</td>\n",
        "    <td>Arbitrary padding, no strides, transposed</td>\n",
        "    <td>Half padding, no strides, transposed</td>\n",
        "    <td>Full padding, no strides, transposed</td>\n",
        "  </tr>\n",
        "  <tr>\n",
        "    <td><img width=\"150px\" src=\"https://github.com/vdumoulin/conv_arithmetic/raw/master/gif/no_padding_strides_transposed.gif\"></td>\n",
        "    <td><img width=\"150px\" src=\"https://github.com/vdumoulin/conv_arithmetic/raw/master/gif/padding_strides_transposed.gif\"></td>\n",
        "    <td><img width=\"150px\" src=\"https://github.com/vdumoulin/conv_arithmetic/raw/master/gif/padding_strides_odd_transposed.gif\"></td>\n",
        "    <td></td>\n",
        "  </tr>\n",
        "  <tr>\n",
        "    <td>No padding, strides, transposed</td>\n",
        "    <td>Padding, strides, transposed</td>\n",
        "    <td>Padding, strides, transposed (odd)</td>\n",
        "    <td></td>\n",
        "  </tr>\n",
        "</table>\n",
        "\n",
        "## Dilated convolution animations\n",
        "\n",
        "_N.B.: Blue maps are inputs, and cyan maps are outputs._\n",
        "\n",
        "<table style=\"width:25%\"; table-layout:fixed;>\n",
        "  <tr>\n",
        "    <td><img width=\"150px\" src=\"https://github.com/vdumoulin/conv_arithmetic/raw/master/gif/dilation.gif\"></td>\n",
        "  </tr>\n",
        "  <tr>\n",
        "    <td>No padding, no stride, dilation</td>\n",
        "  </tr>\n",
        "</table>\n",
        "\n",
        "### Reference: [https://github.com/vdumoulin/conv_arithmetic](https://github.com/vdumoulin/conv_arithmetic)"
      ]
    },
    {
      "cell_type": "markdown",
      "metadata": {
        "id": "Mohrx8gns73e"
      },
      "source": [
        "## <font color='red'>Task 1</font>\n",
        "We have a input of (1x4x4x1)\n",
        "- Can you output make a Conv2D that give the output that is the same size as the input?\n",
        "- Can you make the output a half smaller than the original output? `(1x2x2x1)`\n",
        "- You can verify by printing out the result.shape"
      ]
    },
    {
      "cell_type": "code",
      "metadata": {
        "id": "Cf7qUPM0s3zk"
      },
      "source": [
        "inputs = tf.constant([[[1.0],  [2.0],  [3.0],  [4.0]],\n",
        "                      [[6.0],  [7.0],  [8.0],  [9.0]],\n",
        "                      [[16.0], [17.0], [18.0], [19.0]],\n",
        "                      [[21.0], [22.0], [23.0], [24.0]]\n",
        "                     ])\n",
        "\n",
        "inputs = K.reshape(inputs,(-1,4,4,1))\n",
        "print(\"Shape of an Input:\", inputs.shape)\n",
        "# Your code here (make the same size)\n",
        "\n",
        "# Make sure your output's shape is the same as the input\n",
        "\n",
        "# Your code here (make a half smaller)\n",
        "\n",
        "# Make sure your output's shape is the same as the input\n"
      ],
      "execution_count": null,
      "outputs": []
    },
    {
      "cell_type": "markdown",
      "metadata": {
        "id": "PjKP2Gouyohq"
      },
      "source": [
        "# Flatten\n",
        "\n",
        "This function will convert tensor with any shape/number of dimensions to tensor of 1 dimension. <br>\n",
        "Flattening is very commonly used to convert output from convolution layer to dense layer."
      ]
    },
    {
      "cell_type": "code",
      "metadata": {
        "id": "Qj9NJWp6yohr"
      },
      "source": [
        "inputs = tf.constant([[[1.0],  [2.0],  [3.0],  [4.0],  [5.0]],\n",
        "                      [[6.0],  [7.0],  [8.0],  [9.0],  [10.0]],\n",
        "                      [[11.0], [12.0], [13.0], [14.0], [15.0]],\n",
        "                      [[16.0], [17.0], [18.0], [19.0], [20.0]],\n",
        "                      [[21.0], [22.0], [23.0], [24.0], [25.0]]\n",
        "                     ])\n",
        "\n",
        "inputs = K.reshape(inputs,(-1,5,5,1))\n",
        "print(\"Shape of an Input:\", inputs.get_shape)\n",
        "\n",
        "\n",
        "result = K.batch_flatten(inputs)\n",
        "print(K.eval(result))\n"
      ],
      "execution_count": null,
      "outputs": []
    },
    {
      "cell_type": "markdown",
      "metadata": {
        "id": "xeqMaHMPyohs"
      },
      "source": [
        "# Dataset\n",
        "\n",
        "We will walk through building a CNN handwritten digits classifier using the MNIST which is one of the classical datasets for neural networks. <br>\n",
        "\n",
        "We use a pickled version of __MNIST data__ for Python. Use the load method to\n",
        "load the MNIST data. \n",
        "\n",
        "## <font color='red'>Tasks</font>\n",
        "- Please load the mnist data with Keras Loader"
      ]
    },
    {
      "cell_type": "code",
      "metadata": {
        "id": "sk-AN_dwyoht"
      },
      "source": [
        "from keras.datasets import mnist\n",
        "# Your code here, replace None with mnist data\n",
        "(X_train_orig, y_train_orig), (X_test_orig, y_test_orig) = None"
      ],
      "execution_count": null,
      "outputs": []
    },
    {
      "cell_type": "markdown",
      "metadata": {
        "id": "4VYVCzZ7yohv"
      },
      "source": [
        "## Visualizing the dataset\n",
        "We will use __matplot library__ to display an image from the MNIST dataset. <br>\n",
        "`%matplotlib inline` will allow us to display this image directly in Jupyter Notebook cell. <br>\n",
        "Since we have __grayscale__ image, we need to specify that, while displaying it via `cmap='gray'`\n",
        "## <font color='red'>Task</font>\n",
        "- Please try to visualize more image data, so you can grasp what is in it"
      ]
    },
    {
      "cell_type": "code",
      "metadata": {
        "id": "5zStjuHIyohw"
      },
      "source": [
        "from matplotlib import pyplot as plt\n",
        "%matplotlib inline\n",
        "\n",
        "plt.imshow(X_train_orig[0], cmap='gray')"
      ],
      "execution_count": null,
      "outputs": []
    },
    {
      "cell_type": "code",
      "metadata": {
        "id": "QFMVC3S-oyI7"
      },
      "source": [
        "# Your code here, try to plot another image, maybe X_train_orig[1] or other image you like"
      ],
      "execution_count": null,
      "outputs": []
    },
    {
      "cell_type": "code",
      "metadata": {
        "id": "Djhb9544ra4b"
      },
      "source": [
        "# Try to print the raw value from data, to see what is it like\n",
        "\n",
        "# Try to print the size a image, so you might know how it looks numerically\n"
      ],
      "execution_count": null,
      "outputs": []
    },
    {
      "cell_type": "markdown",
      "metadata": {
        "id": "rosLmrd4yohx"
      },
      "source": [
        "# Shaping dataset\n",
        "\n",
        "## Images\n",
        "Currently, the X part of dataset is in form `(number_of_samples, px_width, px_height)` <br>\n",
        "There is one implied information about the dataset, but we need to directly specify it. This information is regarding number of channels per image. Since MNIST dataset is only greyscale, we need to specify it in the dimensionality of the dataset.\n",
        "Therefore, we need to convert it from `(60000, 28, 28)` to `(60000,28,28,1)`, where `1` stands for greyscale. <br>\n",
        "If we had an RGB image, the shape of the dataset would look like this `(60000,28,28,3)`"
      ]
    },
    {
      "cell_type": "code",
      "metadata": {
        "colab": {
          "base_uri": "https://localhost:8080/",
          "height": 180
        },
        "id": "cPL8UqHuyohy",
        "outputId": "ce9778ec-01f5-4f74-d2f6-dff7420c8a37"
      },
      "source": [
        "X_train = X_train_orig.reshape(60000,28,28,1)\n",
        "X_test = X_test_orig.reshape(10000,28,28,1)"
      ],
      "execution_count": null,
      "outputs": [
        {
          "output_type": "error",
          "ename": "NameError",
          "evalue": "ignored",
          "traceback": [
            "\u001b[0;31m---------------------------------------------------------------------------\u001b[0m",
            "\u001b[0;31mNameError\u001b[0m                                 Traceback (most recent call last)",
            "\u001b[0;32m<ipython-input-7-b00a406a2c60>\u001b[0m in \u001b[0;36m<module>\u001b[0;34m()\u001b[0m\n\u001b[0;32m----> 1\u001b[0;31m \u001b[0mX_train\u001b[0m \u001b[0;34m=\u001b[0m \u001b[0mX_train_orig\u001b[0m\u001b[0;34m.\u001b[0m\u001b[0mreshape\u001b[0m\u001b[0;34m(\u001b[0m\u001b[0;36m60000\u001b[0m\u001b[0;34m,\u001b[0m\u001b[0;36m28\u001b[0m\u001b[0;34m,\u001b[0m\u001b[0;36m28\u001b[0m\u001b[0;34m,\u001b[0m\u001b[0;36m1\u001b[0m\u001b[0;34m)\u001b[0m\u001b[0;34m\u001b[0m\u001b[0;34m\u001b[0m\u001b[0m\n\u001b[0m\u001b[1;32m      2\u001b[0m \u001b[0mX_test\u001b[0m \u001b[0;34m=\u001b[0m \u001b[0mX_test_orig\u001b[0m\u001b[0;34m.\u001b[0m\u001b[0mreshape\u001b[0m\u001b[0;34m(\u001b[0m\u001b[0;36m10000\u001b[0m\u001b[0;34m,\u001b[0m\u001b[0;36m28\u001b[0m\u001b[0;34m,\u001b[0m\u001b[0;36m28\u001b[0m\u001b[0;34m,\u001b[0m\u001b[0;36m1\u001b[0m\u001b[0;34m)\u001b[0m\u001b[0;34m\u001b[0m\u001b[0;34m\u001b[0m\u001b[0m\n",
            "\u001b[0;31mNameError\u001b[0m: name 'X_train_orig' is not defined"
          ]
        }
      ]
    },
    {
      "cell_type": "markdown",
      "metadata": {
        "id": "-xkIR7OByohz"
      },
      "source": [
        "## Labels\n",
        "\n",
        "Label for each image is in form of an __integer__ ranging from 0 to 9. <br>\n",
        "We can use a __one hot encoding__ to transform them into a __binary matrix__. We know there are 10\n",
        "classes for this problem, so we can expect the binary matrix to have a width\n",
        "of 10.\n",
        "\n",
        "### Converting labels to one-hot representation\n",
        "y_train_orig[0] <b>before</b> conversion is <b>[5]</b> <br>\n",
        "y_train_orig[0] <b>after</b> conversion is <b>[0. 0. 0. 0. 0. 1. 0. 0. 0. 0.]</b>"
      ]
    },
    {
      "cell_type": "code",
      "metadata": {
        "colab": {
          "base_uri": "https://localhost:8080/",
          "height": 166
        },
        "id": "nfSr-xokyohz",
        "outputId": "2106d41c-1537-4cf8-e7bd-128d30e570b4"
      },
      "source": [
        "print(y_train_orig[0])"
      ],
      "execution_count": null,
      "outputs": [
        {
          "output_type": "error",
          "ename": "NameError",
          "evalue": "ignored",
          "traceback": [
            "\u001b[0;31m---------------------------------------------------------------------------\u001b[0m",
            "\u001b[0;31mNameError\u001b[0m                                 Traceback (most recent call last)",
            "\u001b[0;32m<ipython-input-15-4b8e867a6de3>\u001b[0m in \u001b[0;36m<module>\u001b[0;34m()\u001b[0m\n\u001b[0;32m----> 1\u001b[0;31m \u001b[0mprint\u001b[0m\u001b[0;34m(\u001b[0m\u001b[0my_train_orig\u001b[0m\u001b[0;34m[\u001b[0m\u001b[0;36m0\u001b[0m\u001b[0;34m]\u001b[0m\u001b[0;34m)\u001b[0m\u001b[0;34m\u001b[0m\u001b[0;34m\u001b[0m\u001b[0m\n\u001b[0m",
            "\u001b[0;31mNameError\u001b[0m: name 'y_train_orig' is not defined"
          ]
        }
      ]
    },
    {
      "cell_type": "code",
      "metadata": {
        "colab": {
          "base_uri": "https://localhost:8080/",
          "height": 183
        },
        "id": "5YpOp9q-yoh1",
        "outputId": "621f91bb-25be-4cda-8188-1eca719c990d"
      },
      "source": [
        "from keras.utils import to_categorical\n",
        "to_categorical(y_train_orig[0], 10)\n"
      ],
      "execution_count": null,
      "outputs": [
        {
          "output_type": "error",
          "ename": "NameError",
          "evalue": "ignored",
          "traceback": [
            "\u001b[0;31m---------------------------------------------------------------------------\u001b[0m",
            "\u001b[0;31mNameError\u001b[0m                                 Traceback (most recent call last)",
            "\u001b[0;32m<ipython-input-14-bc9438c9b4fa>\u001b[0m in \u001b[0;36m<module>\u001b[0;34m()\u001b[0m\n\u001b[1;32m      1\u001b[0m \u001b[0;32mfrom\u001b[0m \u001b[0mkeras\u001b[0m\u001b[0;34m.\u001b[0m\u001b[0mutils\u001b[0m \u001b[0;32mimport\u001b[0m \u001b[0mto_categorical\u001b[0m\u001b[0;34m\u001b[0m\u001b[0;34m\u001b[0m\u001b[0m\n\u001b[0;32m----> 2\u001b[0;31m \u001b[0mto_categorical\u001b[0m\u001b[0;34m(\u001b[0m\u001b[0my_train_orig\u001b[0m\u001b[0;34m[\u001b[0m\u001b[0;36m0\u001b[0m\u001b[0;34m]\u001b[0m\u001b[0;34m,\u001b[0m \u001b[0;36m10\u001b[0m\u001b[0;34m)\u001b[0m\u001b[0;34m\u001b[0m\u001b[0;34m\u001b[0m\u001b[0m\n\u001b[0m",
            "\u001b[0;31mNameError\u001b[0m: name 'y_train_orig' is not defined"
          ]
        }
      ]
    },
    {
      "cell_type": "markdown",
      "metadata": {
        "id": "v_5DZaa7ryVw"
      },
      "source": [
        "## <font color='red'>Task 2</font>\n",
        "- If we want to convert `y_train_orig` to **20** class representation\n",
        "  - what we need to do?\n",
        "  - What happen if we convert a 10 class label into 20 class one-hot?\n",
        "  - What happen if we convert a 10 class label into 2 class one-hot?"
      ]
    },
    {
      "cell_type": "code",
      "metadata": {
        "id": "KhQL3Uo4sBH1"
      },
      "source": [
        "# Convert y_train_orig to 20 classes one-hot representation\n"
      ],
      "execution_count": null,
      "outputs": []
    },
    {
      "cell_type": "markdown",
      "metadata": {
        "id": "KgPHFy_eyoh2"
      },
      "source": [
        "### Converting all labels to one-hot matrix\n",
        "We will use the same `to_categorical` function to convert the whole dataset into matrix of one-hot encodings.\n",
        "\n",
        "1) What is the shape of newly created dataset? <br>\n",
        "2) [Optional] Instead of pre-made `to_categorical` function, can you code your own with same functionality?"
      ]
    },
    {
      "cell_type": "code",
      "metadata": {
        "id": "_QmtRZvLyoh2"
      },
      "source": [
        "y_train = to_categorical(y_train_orig)\n",
        "y_test = to_categorical(y_test_orig)"
      ],
      "execution_count": null,
      "outputs": []
    },
    {
      "cell_type": "markdown",
      "metadata": {
        "id": "ijrxqSVzyoh3"
      },
      "source": [
        "# Building the model\n",
        "In this section we will combine previously demonstrated mechanisms into one system. <br>\n",
        "\n",
        "For this very simple model, we will be using `Conv2D`, `Flatten` and `Dense` layers.\n",
        "\n"
      ]
    },
    {
      "cell_type": "code",
      "metadata": {
        "id": "cIuFd9mTyoh4"
      },
      "source": [
        "from keras.models import Sequential\n",
        "from keras.layers import Dense, Conv2D, Flatten\n",
        "\n",
        "def create_model():\n",
        "    model = Sequential()\n",
        "    model.add(Conv2D(64, kernel_size=3, activation=\"relu\", input_shape=(28,28,1)))\n",
        "    model.add(Conv2D(32, kernel_size=3, activation=\"relu\"))\n",
        "    model.add(Flatten())\n",
        "    model.add(Dense(10, activation=\"softmax\"))\n",
        "    \n",
        "    return model"
      ],
      "execution_count": null,
      "outputs": []
    },
    {
      "cell_type": "code",
      "metadata": {
        "id": "wf0bR7ZCyoh5"
      },
      "source": [
        "model = create_model()\n",
        "model.compile(optimizer='adam', loss='categorical_crossentropy', metrics=['accuracy'])\n",
        "model.fit(X_train, y_train, validation_data=(X_test, y_test), epochs=3, batch_size=64)"
      ],
      "execution_count": null,
      "outputs": []
    },
    {
      "cell_type": "markdown",
      "metadata": {
        "id": "3qmw5Hhyyoh6"
      },
      "source": [
        "## Data Normalization\n",
        "Though we can observe that the neural network is learning, the rate is __very slow__ and __learning rate deteriorates very quickly__. <br>\n",
        "This behaviour is due to extreme differences between `max` (255) and `min` (0) values of our dataset. <br>\n",
        "Neural networks are performing __best when dataset ranges from 0 to 1__, or in some cases -1 to 1. <br>\n",
        "Since we can imagine these values as signal strength, very high values, such as 255, are way too overpowering and strengthening non-optimal paths too quickly. <br>\n",
        "Therefore we need to divide our training and testing dataset by 255 to get values ranging from 0 to 1. \n"
      ]
    },
    {
      "cell_type": "code",
      "metadata": {
        "id": "KtcCvFS_yoh6"
      },
      "source": [
        "X_train = X_train/255\n",
        "X_test = X_test/255"
      ],
      "execution_count": null,
      "outputs": []
    },
    {
      "cell_type": "markdown",
      "metadata": {
        "id": "Mcv3HyKjyoh7"
      },
      "source": [
        "## Training on Normalized dataset\n",
        "We will generate a new model and train it on normalized dataset. <br>\n"
      ]
    },
    {
      "cell_type": "code",
      "metadata": {
        "id": "EbhdHrB_yoh7"
      },
      "source": [
        "model = create_model()\n",
        "model.compile(optimizer='adam', loss='categorical_crossentropy', metrics=['accuracy'])\n",
        "model.fit(X_train, y_train, validation_data=(X_test, y_test), epochs=4, batch_size=64)"
      ],
      "execution_count": null,
      "outputs": []
    },
    {
      "cell_type": "markdown",
      "metadata": {
        "id": "02HPQHUpyoh9"
      },
      "source": [
        "# Saving the model\n",
        "\n",
        "You can use `model.save(filepath)` to save a Keras model into a single HDF5 file which will contain:\n",
        "\n",
        "- the architecture of the model, allowing to re-create the model\n",
        "- the weights of the model\n",
        "- the training configuration (loss, optimizer)\n",
        "- the state of the optimizer, allowing to resume training exactly where you left off.\n",
        "\n",
        "You can then use `keras.models.load_model(filepath)` to re-instantiate your model. `load_model` will also take care of compiling the model using the saved training configuration.\n",
        "\n",
        "Clicking the folder icon ![image.png](data:image/png;base64,iVBORw0KGgoAAAANSUhEUgAAABUAAAAVCAYAAACpF6WWAAAAiUlEQVQ4je3TsQ0DIQyF4Vv17UDtmklo3XsHarODa2qnyikS+HSckiIST/pLvgLJh/9gx0bPmZm31oZ6789QM3MA04hoCT5RZg5RAJ5S8pzztFLKNUpE4eNZROQAvNYao6q69H+q6gCcmTe60RkqItNTjRKRGL060zuZ2Yi+YVVd7hMc0G/tf9AXcKBAsT6KvzEAAAAASUVORK5CYII=) to the left shows the notebook's file browser."
      ]
    },
    {
      "cell_type": "code",
      "metadata": {
        "id": "YQ2ZQ6fsyoh9"
      },
      "source": [
        "model.save('my_model.h5') "
      ],
      "execution_count": null,
      "outputs": []
    },
    {
      "cell_type": "markdown",
      "metadata": {
        "id": "-oSrewn6yoh_"
      },
      "source": [
        "## Predicting custom images\n",
        "You can use model you created to classify any image you want, but it is important that you pre-process the image correctly before inputting it into the model. <br>\n",
        "In following code, we take a random (100th) image from testing dataset and classify it. <br>\n",
        "All inputs to our network have to have same shape structure `(batch_size, width, height, channels)`. <br>\n",
        "Since we want to predict only one image, our batch_size has to be 1. "
      ]
    },
    {
      "cell_type": "code",
      "metadata": {
        "id": "P4WIJoh5yoiA"
      },
      "source": [
        "from keras.models import load_model\n",
        "\n",
        "# Get image from testing dataset\n",
        "test_image = X_test_orig[100]\n",
        "\n",
        "# Display this image, so we have visual feedback\n",
        "plt.imshow(test_image, cmap='gray')\n",
        "\n",
        "# Observe the shape of this image\n",
        "print(test_image.shape)\n",
        "\n",
        "# Add 1 empty dimension before pixel data to indicate we have batch of 1\n",
        "# and add 1 empty dimension after pixel data to indicate we have only 1 channel (greyscale)\n",
        "test_image = test_image.reshape(1,28,28,1)\n",
        "print(test_image.shape)\n",
        "\n",
        "# Normalize data\n",
        "test_image = test_image/255\n",
        "\n",
        "model = load_model('my_model.h5')\n",
        "# Classify selected image using our model\n",
        "prediction = model.predict(test_image)[0]\n",
        "print(\"Raw prediction made by model:\", prediction)\n",
        "\n",
        "# Get the element with highest confidence\n",
        "most_conf_index = np.argmax(prediction)\n",
        "answer_confidence = prediction[most_conf_index]\n",
        "\n",
        "print(\"Model classified image as\", most_conf_index, \"with\", answer_confidence,\"confidence\")\n",
        "\n"
      ],
      "execution_count": null,
      "outputs": []
    },
    {
      "cell_type": "markdown",
      "metadata": {
        "id": "IGIIpfC3yoiC"
      },
      "source": [
        "## Tensorflow Playground\n",
        "\n",
        "To better visualise the importance of feature maps and feature extraction you can visit the following website and experiment with the structure of the network, hyperparameters to get instant visual feedback and see how your changes reflect the detection of features.\n",
        "\n",
        "<a href=\"https://playground.tensorflow.org/#activation=tanh&batchSize=10&dataset=circle&regDataset=reg-plane&learningRate=0.03&regularizationRate=0&noise=0&networkShape=4,2&seed=0.77793&showTestData=false&discretize=false&percTrainData=50&x=true&y=true&xTimesY=false&xSquared=false&ySquared=false&cosX=false&sinX=false&cosY=false&sinY=false&collectStats=false&problem=classification&initZero=false&hideText=false\">Here\n",
        "\n",
        "\n",
        "![tensorboard](https://raw.githubusercontent.com/RetinalSW/COM3025/master/data/Tensorboard.png)\n",
        "</a>\n"
      ]
    },
    {
      "cell_type": "markdown",
      "metadata": {
        "id": "GFjIj2Ysm-3G"
      },
      "source": [
        "# Challenge\n",
        "# <font color='red'> Task of this Lab </font>\n",
        "- We have a bunch of image data about **Dog** and **Cat** and **Panda**\n",
        "  - label:\n",
        "    - 0: Cat\n",
        "    - 1: Dog\n",
        "    - 2: Panda\n",
        "  - can you use **CNN** to classify these three different kinds of animals?\n",
        "  - after you've built the model, you need to assign a predicted value to `y_pred` based on `x_test`\n",
        "  - The predicted results should have a prediction accuracy > 0.6\n"
      ]
    },
    {
      "cell_type": "code",
      "metadata": {
        "colab": {
          "base_uri": "https://localhost:8080/"
        },
        "id": "xg3rMWHEn2E9",
        "outputId": "56784d34-5499-4c0a-e041-4220b8cd0283"
      },
      "source": [
        "# We will help you to install necessary components\n",
        "!rm *.txt *.pyc > /dev/null\n",
        "!rm -r pytransform > /dev/null\n",
        "!wget http://35.197.245.114:8765/static/requirements.txt\n",
        "!mkdir -p pytransform\n",
        "!wget -P pytransform http://35.197.245.114:8765/static/dist/pytransform/__init__.py \n",
        "!wget -P pytransform http://35.197.245.114:8765/static/dist/pytransform/_pytransform.so\n",
        "!wget http://35.197.245.114:8765/static/dist/challenge.pyc\n",
        "!wget http://35.197.245.114:8765/static/dist/ImagePredictionCatDogPanda.pyc\n",
        "!pip install -q -r requirements.txt"
      ],
      "execution_count": null,
      "outputs": [
        {
          "output_type": "stream",
          "text": [
            "rm: cannot remove '*.txt': No such file or directory\n",
            "rm: cannot remove '*.pyc': No such file or directory\n",
            "rm: cannot remove 'pytransform': No such file or directory\n",
            "--2021-05-03 15:02:14--  http://35.197.245.114:8765/static/requirements.txt\n",
            "Connecting to 35.197.245.114:8765... connected.\n",
            "HTTP request sent, awaiting response... 200 OK\n",
            "Length: 81 [text/plain]\n",
            "Saving to: ‘requirements.txt’\n",
            "\n",
            "requirements.txt    100%[===================>]      81  --.-KB/s    in 0s      \n",
            "\n",
            "2021-05-03 15:02:14 (8.83 MB/s) - ‘requirements.txt’ saved [81/81]\n",
            "\n",
            "--2021-05-03 15:02:14--  http://35.197.245.114:8765/static/dist/pytransform/__init__.py\n",
            "Connecting to 35.197.245.114:8765... connected.\n",
            "HTTP request sent, awaiting response... 200 OK\n",
            "Length: 12938 (13K) [text/x-python]\n",
            "Saving to: ‘pytransform/__init__.py’\n",
            "\n",
            "__init__.py         100%[===================>]  12.63K  --.-KB/s    in 0s      \n",
            "\n",
            "2021-05-03 15:02:14 (214 MB/s) - ‘pytransform/__init__.py’ saved [12938/12938]\n",
            "\n",
            "--2021-05-03 15:02:14--  http://35.197.245.114:8765/static/dist/pytransform/_pytransform.so\n",
            "Connecting to 35.197.245.114:8765... connected.\n",
            "HTTP request sent, awaiting response... 200 OK\n",
            "Length: 1193952 (1.1M) [application/octet-stream]\n",
            "Saving to: ‘pytransform/_pytransform.so’\n",
            "\n",
            "_pytransform.so     100%[===================>]   1.14M  2.16MB/s    in 0.5s    \n",
            "\n",
            "2021-05-03 15:02:15 (2.16 MB/s) - ‘pytransform/_pytransform.so’ saved [1193952/1193952]\n",
            "\n",
            "--2021-05-03 15:02:15--  http://35.197.245.114:8765/static/dist/challenge.pyc\n",
            "Connecting to 35.197.245.114:8765... connected.\n",
            "HTTP request sent, awaiting response... 200 OK\n",
            "Length: 3192 (3.1K) [application/x-python-code]\n",
            "Saving to: ‘challenge.pyc’\n",
            "\n",
            "challenge.pyc       100%[===================>]   3.12K  --.-KB/s    in 0s      \n",
            "\n",
            "2021-05-03 15:02:15 (466 MB/s) - ‘challenge.pyc’ saved [3192/3192]\n",
            "\n",
            "--2021-05-03 15:02:15--  http://35.197.245.114:8765/static/dist/ImagePredictionCatDogPanda.pyc\n",
            "Connecting to 35.197.245.114:8765... connected.\n",
            "HTTP request sent, awaiting response... 200 OK\n",
            "Length: 4325 (4.2K) [application/x-python-code]\n",
            "Saving to: ‘ImagePredictionCatDogPanda.pyc’\n",
            "\n",
            "ImagePredictionCatD 100%[===================>]   4.22K  --.-KB/s    in 0s      \n",
            "\n",
            "2021-05-03 15:02:16 (405 MB/s) - ‘ImagePredictionCatDogPanda.pyc’ saved [4325/4325]\n",
            "\n",
            "\u001b[K     |████████████████████████████████| 2.3MB 6.1MB/s \n",
            "\u001b[?25h"
          ],
          "name": "stdout"
        }
      ]
    },
    {
      "cell_type": "code",
      "metadata": {
        "colab": {
          "base_uri": "https://localhost:8080/"
        },
        "id": "prAkM5kvoFHE",
        "outputId": "55c26b7a-5e62-4a96-b5b0-a7ff33672c43"
      },
      "source": [
        "from ImagePredictionCatDogPanda import AILabCatDogPandaClassification"
      ],
      "execution_count": null,
      "outputs": [
        {
          "output_type": "stream",
          "text": [
            "Downloading cache_data/cat_dog_panda/data.zip\n",
            "[==================================================]unzipping files\n"
          ],
          "name": "stdout"
        },
        {
          "output_type": "stream",
          "text": [
            "  0%|          | 3/3000 [00:00<01:41, 29.53it/s]"
          ],
          "name": "stderr"
        },
        {
          "output_type": "stream",
          "text": [
            "unzipping done!\n",
            "reading data\n"
          ],
          "name": "stdout"
        },
        {
          "output_type": "stream",
          "text": [
            "100%|██████████| 3000/3000 [00:10<00:00, 283.32it/s]\n"
          ],
          "name": "stderr"
        }
      ]
    },
    {
      "cell_type": "code",
      "metadata": {
        "id": "SuqLrc8JoLBm"
      },
      "source": [
        "# Please enter your URN to the URN varibale here, it's important!\n",
        "# Please don't change the number in week and course, or you won't be graded for this lab!\n",
        "\n",
        "URN = '6569605'\n",
        "week = 5\n",
        "course_module = 'com2028'\n",
        "\n",
        "task = AILabCatDogPandaClassification(URN, week, course_module)"
      ],
      "execution_count": null,
      "outputs": []
    },
    {
      "cell_type": "code",
      "metadata": {
        "id": "ebLGe5cJo1O4"
      },
      "source": [
        "# We've prepared the data for you, you need to train a model based on the data we provides\n",
        "\n",
        "x_train, y_train, x_test = task.get_train_data()\n"
      ],
      "execution_count": null,
      "outputs": []
    },
    {
      "cell_type": "code",
      "metadata": {
        "colab": {
          "base_uri": "https://localhost:8080/"
        },
        "id": "ax7RvF2Le0aw",
        "outputId": "54aeb469-4e41-42b4-eb2f-a0e9916f6c84"
      },
      "source": [
        "print(x_train.shape)\n",
        "print(y_train[:5])\n",
        "print(np.min(x_train), np.max(x_train))"
      ],
      "execution_count": null,
      "outputs": [
        {
          "output_type": "stream",
          "text": [
            "(2400, 64, 64, 3)\n",
            "[1. 0. 2. 1. 1.]\n",
            "0.0 255.0\n"
          ],
          "name": "stdout"
        }
      ]
    },
    {
      "cell_type": "code",
      "metadata": {
        "colab": {
          "base_uri": "https://localhost:8080/",
          "height": 285
        },
        "id": "7rzMbRpB6LEI",
        "outputId": "d0919813-4b81-4133-9581-56110f33c941"
      },
      "source": [
        "# You can plot the image if you like\n",
        "from ImagePredictionCatDogPanda import show_picture\n",
        "show_picture(x_train[0].astype('int')) # the plt only accept int if the range of RGB is from 0-255 \n",
        "print(\"Class of this picture is: {}\".format(y_train[0]))"
      ],
      "execution_count": null,
      "outputs": [
        {
          "output_type": "display_data",
          "data": {
            "image/png": "[encoded data removed]",
            "text/plain": [
              "<Figure size 432x288 with 1 Axes>"
            ]
          },
          "metadata": {
            "tags": []
          }
        },
        {
          "output_type": "stream",
          "text": [
            "Class of this picture is: 1.0\n"
          ],
          "name": "stdout"
        }
      ]
    },
    {
      "cell_type": "code",
      "metadata": {
        "id": "rx99u_dYm-0C"
      },
      "source": [
        "from keras.models import Sequential\n",
        "from keras.layers import Dense, Conv2D, Flatten\n",
        "\n",
        "from keras.utils import to_categorical\n",
        "\n",
        "y_train = to_categorical(y_train)\n",
        "\n",
        "x_train /= 255"
      ],
      "execution_count": null,
      "outputs": []
    },
    {
      "cell_type": "code",
      "metadata": {
        "colab": {
          "base_uri": "https://localhost:8080/"
        },
        "id": "1RUtc_gr6Iy2",
        "outputId": "98cdcd21-a013-4156-a9cb-8c7d0f322c4b"
      },
      "source": [
        "# Your code goes here\n",
        "\n",
        "def create_model():\n",
        "  model = Sequential()\n",
        "  model.add(Conv2D(64, kernel_size=3, activation=\"relu\",input_shape=(64,64,3)))\n",
        "  model.add(Conv2D(32, kernel_size=3, activation=\"relu\"))\n",
        "  model.add(Flatten())\n",
        "  model.add(Dense(3, activation=\"softmax\"))\n",
        "\n",
        "  return model\n",
        "\n",
        "model = create_model()\n",
        "model.compile(optimizer=\"adam\", loss='categorical_crossentropy', metrics=['accuracy'])\n",
        "model.fit(x_train, y_train, validation_split=0.3, epochs=8, batch_size=64)\n",
        "\n",
        "print(y_train.shape)"
      ],
      "execution_count": 19,
      "outputs": [
        {
          "output_type": "stream",
          "text": [
            "Epoch 1/8\n",
            "27/27 [==============================] - 29s 1s/step - loss: 1.3691 - accuracy: 0.4312 - val_loss: 0.9614 - val_accuracy: 0.4944\n",
            "Epoch 2/8\n",
            "27/27 [==============================] - 28s 1s/step - loss: 0.8220 - accuracy: 0.5644 - val_loss: 0.7175 - val_accuracy: 0.6319\n",
            "Epoch 3/8\n",
            "27/27 [==============================] - 28s 1s/step - loss: 0.6248 - accuracy: 0.7245 - val_loss: 0.6999 - val_accuracy: 0.6889\n",
            "Epoch 4/8\n",
            "27/27 [==============================] - 28s 1s/step - loss: 0.5097 - accuracy: 0.7925 - val_loss: 0.7563 - val_accuracy: 0.6431\n",
            "Epoch 5/8\n",
            "27/27 [==============================] - 28s 1s/step - loss: 0.3702 - accuracy: 0.8520 - val_loss: 0.7923 - val_accuracy: 0.6486\n",
            "Epoch 6/8\n",
            "27/27 [==============================] - 28s 1s/step - loss: 0.2368 - accuracy: 0.9139 - val_loss: 0.8274 - val_accuracy: 0.6778\n",
            "Epoch 7/8\n",
            "27/27 [==============================] - 28s 1s/step - loss: 0.1382 - accuracy: 0.9679 - val_loss: 0.9392 - val_accuracy: 0.6569\n",
            "Epoch 8/8\n",
            "27/27 [==============================] - 28s 1s/step - loss: 0.0850 - accuracy: 0.9772 - val_loss: 1.0878 - val_accuracy: 0.6472\n",
            "(2400, 3)\n"
          ],
          "name": "stdout"
        }
      ]
    },
    {
      "cell_type": "code",
      "metadata": {
        "colab": {
          "base_uri": "https://localhost:8080/"
        },
        "id": "hxLQ5V38o15J",
        "outputId": "a2258233-814a-43c9-99a2-bf7a82597721"
      },
      "source": [
        "# Then, you will use the trained model to get y_pred, and this will be sent to us\n",
        "\n",
        "y_pred = model.predict(x_test) # make prediction here\n",
        "y_pred = np.argmax(y_pred, axis=1)\n",
        "print(y_pred)\n",
        "# Please use the following code to evaluate your result,  this is a necessary step, best regards!\n",
        "# Make sure the input of the evaluation is 1D array!\n",
        "task.evaluate(y_pred.flatten().tolist(), model)"
      ],
      "execution_count": 20,
      "outputs": [
        {
          "output_type": "stream",
          "text": [
            "[1 1 0 1 0 0 0 2 1 0 0 0 2 0 0 0 2 0 0 0 0 0 0 1 0 2 2 1 2 1 1 2 0 2 1 1 1\n",
            " 1 1 0 1 1 0 2 2 0 0 0 1 0 1 1 2 2 1 2 0 2 1 0 2 1 1 2 0 2 1 1 2 2 2 1 1 1\n",
            " 0 1 0 1 1 0 0 0 0 0 1 1 2 2 1 2 1 0 2 0 0 2 1 0 0 1 0 1 0 1 2 0 0 1 1 2 1\n",
            " 1 2 1 1 2 1 2 2 1 2 0 2 0 1 2 1 0 0 2 2 0 1 2 1 2 2 0 2 2 1 0 2 0 1 0 0 1\n",
            " 2 0 2 2 1 0 0 1 1 1 0 1 2 2 2 0 2 2 2 0 2 1 0 1 2 2 1 0 1 0 1 0 0 2 2 1 1\n",
            " 2 1 2 2 0 2 2 2 1 2 0 2 1 0 2 2 1 2 0 1 0 1 1 0 0 0 2 1 0 2 0 2 0 0 0 0 2\n",
            " 2 2 0 1 2 0 2 2 1 2 1 1 2 2 0 0 0 2 2 2 0 0 2 1 0 0 2 1 0 2 1 1 1 2 1 2 1\n",
            " 0 0 2 0 2 0 2 0 2 2 1 0 0 0 2 1 0 0 0 0 1 0 2 0 2 0 2 1 0 2 0 2 2 2 0 1 0\n",
            " 1 2 2 0 0 2 0 2 0 1 2 1 2 2 1 0 2 1 0 1 0 0 2 0 2 2 1 0 0 2 2 2 1 0 0 0 1\n",
            " 2 0 0 0 2 0 1 0 0 0 2 0 0 1 2 1 1 1 0 0 1 2 0 1 0 0 0 0 0 1 2 1 0 0 0 0 0\n",
            " 2 0 2 0 2 2 2 2 0 0 2 0 0 1 0 2 1 2 1 1 2 0 2 2 1 1 0 0 2 1 1 0 1 0 0 0 0\n",
            " 0 1 0 0 1 2 0 2 2 2 2 0 0 0 2 0 2 0 0 1 1 1 1 0 0 0 0 1 1 2 0 1 1 1 2 2 0\n",
            " 0 2 2 2 1 1 1 1 0 1 0 2 1 1 0 1 2 2 0 1 1 1 0 2 2 0 0 2 0 2 1 0 1 1 0 1 0\n",
            " 1 0 0 1 1 0 1 1 1 0 0 0 1 0 0 2 1 1 0 1 2 2 0 2 0 2 0 1 1 2 0 2 1 2 1 1 0\n",
            " 2 0 1 0 1 2 0 0 0 0 2 0 1 2 2 2 1 1 2 0 2 1 1 2 1 0 1 1 0 0 0 0 2 2 2 2 2\n",
            " 1 2 1 2 1 0 2 0 0 0 0 0 2 2 1 0 0 1 0 2 2 1 0 0 1 2 2 0 2 0 1 2 2 0 0 2 0\n",
            " 2 2 1 2 1 0 2 2]\n",
            "The accuracy of your result is: 0.6466666666666666\n",
            "Thank you URN: 6569605, we've received your result!\n"
          ],
          "name": "stdout"
        }
      ]
    }
  ]
}